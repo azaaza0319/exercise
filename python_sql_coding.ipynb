{
 "cells": [
  {
   "cell_type": "code",
   "execution_count": 4,
   "metadata": {},
   "outputs": [],
   "source": [
    "import pandas as pd\n",
    "import numpy as np\n",
    "import datetime"
   ]
  },
  {
   "cell_type": "code",
   "execution_count": null,
   "metadata": {},
   "outputs": [],
   "source": [
    "#first line push"
   ]
  },
  {
   "cell_type": "markdown",
   "metadata": {},
   "source": [
    "# Posts and Users"
   ]
  },
  {
   "cell_type": "code",
   "execution_count": 5,
   "metadata": {},
   "outputs": [],
   "source": [
    "composer = pd.DataFrame({'user_id':[1,2,1,3,4,1], \n",
    "                         'date':['2020-01-01', '2020-01-01', '2020-01-01', '2020-01-02', '2020-01-03', '2020-01-01'], \n",
    "                         'event':['enter', 'post', 'post', 'enter', 'enter', 'exit']})\n",
    "user = pd.DataFrame({'user_id':[1,2,3,4,5], \n",
    "                     'country':['us', 'uk', 'us', 'us', 'chn'], \n",
    "                     'date':['2020-01-01', '2020-01-02', '2020-01-01', '2020-01-01', '2020-01-03'], \n",
    "                     'dau_flag':[1,1,1,0,1]})"
   ]
  },
  {
   "cell_type": "markdown",
   "metadata": {},
   "source": [
    "### Q1 what is the post success rate for each day in the last week?"
   ]
  },
  {
   "cell_type": "code",
   "execution_count": 6,
   "metadata": {},
   "outputs": [
    {
     "data": {
      "text/plain": [
       "date\n",
       "2020-01-01    2.0\n",
       "2020-01-02    0.0\n",
       "2020-01-03    0.0\n",
       "dtype: float64"
      ]
     },
     "execution_count": 6,
     "metadata": {},
     "output_type": "execute_result"
    }
   ],
   "source": [
    "df = composer.copy()\n",
    "df['date'] = pd.to_datetime(df.date)\n",
    "# df = df[(datetime.datetime.now() - df.date).dt.days <= 7 ]\n",
    "df['enter'] = np.where(df.event == 'enter', 1, 0)\n",
    "df['post'] = np.where(df.event == 'post', 1, 0)\n",
    "np.round(df.groupby('date')['post'].sum()/df.groupby('date')['enter'].sum(),2)"
   ]
  },
  {
   "cell_type": "code",
   "execution_count": null,
   "metadata": {},
   "outputs": [],
   "source": [
    "select date, sum(case when event = 'post' then 1 else 0 end)/sum(case when event = 'enter' then 1 else 0 end)\n",
    "from composer\n",
    "where date_diff('day', date, current_date) <= 7\n",
    "group by date"
   ]
  },
  {
   "cell_type": "code",
   "execution_count": null,
   "metadata": {},
   "outputs": [],
   "source": [
    "select date, sum(case when event = 'post' then 1 else 0 end)/sum(case when event = 'enter' then 1 else 0 end) from composer\n",
    "where date_diff('day', date, current_date) <= 7\n",
    "group by date"
   ]
  },
  {
   "cell_type": "markdown",
   "metadata": {},
   "source": [
    "### Q2 what is the average number of post per daily active user by country today? "
   ]
  },
  {
   "cell_type": "code",
   "execution_count": 46,
   "metadata": {},
   "outputs": [
    {
     "name": "stdout",
     "output_type": "stream",
     "text": [
      "country\n",
      "uk    1\n",
      "us    1\n",
      "Name: user_id, dtype: int64\n",
      "1.0\n"
     ]
    }
   ],
   "source": [
    "df = composer.copy()\n",
    "df['date'] = pd.to_datetime(df.date)\n",
    "# df = df[(datetime.datetime.now() - df.date).dt.days == 0]\n",
    "df = df.merge(user[user.dau_flag == 1], on = 'user_id', how = 'left')\n",
    "temp = df[df.event == 'post'].groupby('country')['user_id'].count()\n",
    "print temp\n",
    "print temp.mean()"
   ]
  },
  {
   "cell_type": "code",
   "execution_count": null,
   "metadata": {},
   "outputs": [],
   "source": [
    "select country, avg(cnt)\n",
    "from\n",
    "(select country, user_id, count(*) as cnt\n",
    "from composer\n",
    "left join user\n",
    "on composer.user_id = user.user_id\n",
    "where date_diff('day', date, current_date) = 0 and dau_flag = 1 and event = 'post'\n",
    "group by country, user_id) temp\n",
    "group by country"
   ]
  },
  {
   "cell_type": "code",
   "execution_count": null,
   "metadata": {},
   "outputs": [],
   "source": [
    "Select country, sum(case when event = ‘post’then 1 else 0 end)/count(distinct user_id) as post_per_user\n",
    "from\n",
    "(Select * from composer\n",
    "Left join user\n",
    "On user_id = user_id\n",
    "Where dau_flag = 1 and date = current_date) as temp\n",
    "Group by country\n"
   ]
  },
  {
   "cell_type": "code",
   "execution_count": null,
   "metadata": {},
   "outputs": [],
   "source": [
    "select country, count(*)/count(distinct user_id) from composer\n",
    "left join user\n",
    "on composer.user_id = user.user_id\n",
    "where date_diff('day', composer.date, current_date) = 0 and dau_flag = 1 and event = 'post'\n",
    "group by country"
   ]
  },
  {
   "cell_type": "markdown",
   "metadata": {},
   "source": [
    "# Session"
   ]
  },
  {
   "cell_type": "code",
   "execution_count": 43,
   "metadata": {},
   "outputs": [],
   "source": [
    "table1 = pd.DataFrame({'date': ['2020-01-01', '2020-01-01', '2020-01-01', '2020-01-02', '2020-01-03', '2020-01-01'],\n",
    "                       'session_id':[1,2,3,4,5,6],\n",
    "                       'user_id':[1,2,1,1,3,4],\n",
    "                       'act':['enter', 'enter', 'post', 'exit', 'enter', 'post']\n",
    "                      })\n",
    "table2 = pd.DataFrame({'date':['2020-01-01', '2020-01-01', '2020-01-01', '2020-01-02', '2020-01-03'],\n",
    "                       'session_id':[1,2,3,4,5],\n",
    "                       'time_spent':[20,40,50,10,100]\n",
    "                      })\n"
   ]
  },
  {
   "cell_type": "markdown",
   "metadata": {},
   "source": [
    "### Q1：generate average number of sessions per user per day"
   ]
  },
  {
   "cell_type": "code",
   "execution_count": 48,
   "metadata": {},
   "outputs": [
    {
     "name": "stdout",
     "output_type": "stream",
     "text": [
      "date        user_id\n",
      "2020-01-01  1          2\n",
      "            2          1\n",
      "            4          1\n",
      "2020-01-02  1          1\n",
      "2020-01-03  3          1\n",
      "Name: session_id, dtype: int64\n",
      "1.2\n"
     ]
    }
   ],
   "source": [
    "df = table1.copy()\n",
    "temp = df.groupby(['date', 'user_id'])['session_id'].nunique()\n",
    "print temp \n",
    "print temp.mean()"
   ]
  },
  {
   "cell_type": "code",
   "execution_count": null,
   "metadata": {},
   "outputs": [],
   "source": [
    "select date, avg(cnt)\n",
    "from\n",
    "(select date, user_id, count(distinct session_id) as cnt from table1\n",
    "group by date, user_id) temp\n",
    "group by date"
   ]
  },
  {
   "cell_type": "code",
   "execution_count": null,
   "metadata": {},
   "outputs": [],
   "source": [
    "\n",
    "select avg(cnt)\n",
    "from (select date, count(distinct session_id)/count(distinct user_id) as cnt from table1\n",
    "group by date)"
   ]
  },
  {
   "cell_type": "code",
   "execution_count": null,
   "metadata": {},
   "outputs": [],
   "source": [
    "select date, avg(count(distinct session_id)/count(distinct user-id))\n",
    "from table1\n",
    "group by date"
   ]
  },
  {
   "cell_type": "markdown",
   "metadata": {},
   "source": [
    "### Q2: Generate number of users per time interval in order to measure how many user is spending certain amount of time"
   ]
  },
  {
   "cell_type": "code",
   "execution_count": 51,
   "metadata": {},
   "outputs": [
    {
     "data": {
      "text/html": [
       "<div>\n",
       "<style scoped>\n",
       "    .dataframe tbody tr th:only-of-type {\n",
       "        vertical-align: middle;\n",
       "    }\n",
       "\n",
       "    .dataframe tbody tr th {\n",
       "        vertical-align: top;\n",
       "    }\n",
       "\n",
       "    .dataframe thead th {\n",
       "        text-align: right;\n",
       "    }\n",
       "</style>\n",
       "<table border=\"1\" class=\"dataframe\">\n",
       "  <thead>\n",
       "    <tr style=\"text-align: right;\">\n",
       "      <th></th>\n",
       "      <th>interval</th>\n",
       "      <th>user_id</th>\n",
       "    </tr>\n",
       "  </thead>\n",
       "  <tbody>\n",
       "    <tr>\n",
       "      <th>0</th>\n",
       "      <td>2.0</td>\n",
       "      <td>1</td>\n",
       "    </tr>\n",
       "    <tr>\n",
       "      <th>1</th>\n",
       "      <td>3.0</td>\n",
       "      <td>1</td>\n",
       "    </tr>\n",
       "    <tr>\n",
       "      <th>2</th>\n",
       "      <td>5.0</td>\n",
       "      <td>1</td>\n",
       "    </tr>\n",
       "    <tr>\n",
       "      <th>3</th>\n",
       "      <td>6.0</td>\n",
       "      <td>1</td>\n",
       "    </tr>\n",
       "    <tr>\n",
       "      <th>4</th>\n",
       "      <td>11.0</td>\n",
       "      <td>1</td>\n",
       "    </tr>\n",
       "  </tbody>\n",
       "</table>\n",
       "</div>"
      ],
      "text/plain": [
       "   interval  user_id\n",
       "0       2.0        1\n",
       "1       3.0        1\n",
       "2       5.0        1\n",
       "3       6.0        1\n",
       "4      11.0        1"
      ]
     },
     "execution_count": 51,
     "metadata": {},
     "output_type": "execute_result"
    }
   ],
   "source": [
    "df = table2.copy()\n",
    "df['interval'] = df.time_spent/10.0+1\n",
    "df.merge(table1, on = ['session_id', 'date'], how = 'left').groupby('interval')['user_id'].nunique().reset_index()"
   ]
  },
  {
   "cell_type": "code",
   "execution_count": null,
   "metadata": {},
   "outputs": [],
   "source": [
    "select time_spent/10.0+1 as interval, count(user) as cnt\n",
    "from table2\n",
    "left join table1\n",
    "on table2.session_id = table1.session_id\n",
    "group by interval"
   ]
  },
  {
   "cell_type": "code",
   "execution_count": null,
   "metadata": {},
   "outputs": [],
   "source": [
    "select (time_spend/10.0)+1 as interval, count(user) from table2\n",
    "left join table1\n",
    "on table2.session_id = table1.session_id\n",
    "group by interval"
   ]
  },
  {
   "cell_type": "markdown",
   "metadata": {},
   "source": [
    "# Country User"
   ]
  },
  {
   "cell_type": "code",
   "execution_count": 60,
   "metadata": {},
   "outputs": [],
   "source": [
    "table1 = pd.DataFrame({'country':['us', 'us', 'uk', 'chn', 'chn', 'us'],\n",
    "                      'userid':[1,2,3,4,5,6]\n",
    "                      })\n",
    "table2 = pd.DataFrame({'userid':[1,1,2,2,3,4,4,5],\n",
    "                      'post_date':['2020-01-01', '2020-01-01', '2020-01-01', '2020-01-02', '2020-01-03',\n",
    "                                  '2020-01-01', '2020-01-01', '2020-01-01']\n",
    "                      })"
   ]
  },
  {
   "cell_type": "markdown",
   "metadata": {},
   "source": [
    "### Q1 number of users in each country"
   ]
  },
  {
   "cell_type": "code",
   "execution_count": 54,
   "metadata": {},
   "outputs": [
    {
     "data": {
      "text/plain": [
       "country\n",
       "chn    2\n",
       "uk     1\n",
       "us     3\n",
       "Name: userid, dtype: int64"
      ]
     },
     "execution_count": 54,
     "metadata": {},
     "output_type": "execute_result"
    }
   ],
   "source": [
    "df = table1.copy()\n",
    "df.groupby('country')['userid'].nunique()"
   ]
  },
  {
   "cell_type": "code",
   "execution_count": null,
   "metadata": {},
   "outputs": [],
   "source": [
    "select country, count(distinct userid) from table1\n",
    "group by country"
   ]
  },
  {
   "cell_type": "markdown",
   "metadata": {},
   "source": [
    "### Q2 user active rate (at least one post) yesterday per country"
   ]
  },
  {
   "cell_type": "code",
   "execution_count": 66,
   "metadata": {},
   "outputs": [
    {
     "data": {
      "text/plain": [
       "country\n",
       "chn    1.0\n",
       "uk     1.0\n",
       "us     0.8\n",
       "dtype: float64"
      ]
     },
     "execution_count": 66,
     "metadata": {},
     "output_type": "execute_result"
    }
   ],
   "source": [
    "df = table2.copy()\n",
    "# df = df[datetime.datetime.now() - df.post_date == 1]\n",
    "df = df.merge(table1, how = 'right', on = 'userid')\n",
    "df['active'] = np.where(df.post_date.isnull(), 0, 1)\n",
    "df.groupby('country')['active'].sum()/(df.groupby('country')['userid'].count()+0.0)"
   ]
  },
  {
   "cell_type": "code",
   "execution_count": null,
   "metadata": {},
   "outputs": [],
   "source": [
    "select country, sum(case when post_date is null then 0 else 1)/count(*) from table2\n",
    "right join table1\n",
    "on table1.userid = table2.userid\n",
    "where date_diff('day', post_dat, current_date) = 1\n",
    "group by country"
   ]
  },
  {
   "cell_type": "code",
   "execution_count": null,
   "metadata": {},
   "outputs": [],
   "source": [
    "select country, sum(case when post_date is null then 0 else 1 end)/count(distinct userid) from table1\n",
    "left join table2\n",
    "on table2.userid = table1.userid\n",
    "where date_diff('day', post_date, current_date) = 1\n",
    "group by country"
   ]
  },
  {
   "cell_type": "markdown",
   "metadata": {},
   "source": [
    "# SPAM"
   ]
  },
  {
   "cell_type": "code",
   "execution_count": 77,
   "metadata": {},
   "outputs": [],
   "source": [
    "table = pd.DataFrame({'date':['2020-01-01', '2020-01-01', '2020-01-01', '2020-01-02', '2020-01-03',\n",
    "                                  '2020-01-01', '2020-01-01', '2020-01-01'],\n",
    "                     'user_id':[1,1,2,2,3,4,4,5],\n",
    "                     'post_id':[1,2,3,4,5,6,7,8],\n",
    "                     'content_type':['view', 'comment', 'photo', 'report',\n",
    "                                     'view', 'comment', 'photo', 'report'],\n",
    "                     'extra':['text', 'SPAM', 'la', 'SPAM', \n",
    "                              'SPAM', 'text', 'SPAM', 'la']\n",
    "                     })\n",
    "review_removal = pd.DataFrame({'date':['2020-01-01', '2020-01-01', '2020-01-01', '2020-01-02', '2020-01-03'],\n",
    "                              'reviewer_id':[1,2,1,1,3],\n",
    "                              'post_id':[1,2,4,6,3]})\n",
    "\n"
   ]
  },
  {
   "cell_type": "markdown",
   "metadata": {},
   "source": [
    "### Q1 What is the total number of posts posted yesterday for each type of report?"
   ]
  },
  {
   "cell_type": "code",
   "execution_count": 74,
   "metadata": {},
   "outputs": [
    {
     "data": {
      "text/html": [
       "<div>\n",
       "<style scoped>\n",
       "    .dataframe tbody tr th:only-of-type {\n",
       "        vertical-align: middle;\n",
       "    }\n",
       "\n",
       "    .dataframe tbody tr th {\n",
       "        vertical-align: top;\n",
       "    }\n",
       "\n",
       "    .dataframe thead th {\n",
       "        text-align: right;\n",
       "    }\n",
       "</style>\n",
       "<table border=\"1\" class=\"dataframe\">\n",
       "  <thead>\n",
       "    <tr style=\"text-align: right;\">\n",
       "      <th></th>\n",
       "      <th>extra</th>\n",
       "      <th>post_id</th>\n",
       "    </tr>\n",
       "  </thead>\n",
       "  <tbody>\n",
       "    <tr>\n",
       "      <th>0</th>\n",
       "      <td>SPAM</td>\n",
       "      <td>1</td>\n",
       "    </tr>\n",
       "    <tr>\n",
       "      <th>1</th>\n",
       "      <td>la</td>\n",
       "      <td>1</td>\n",
       "    </tr>\n",
       "  </tbody>\n",
       "</table>\n",
       "</div>"
      ],
      "text/plain": [
       "  extra  post_id\n",
       "0  SPAM        1\n",
       "1    la        1"
      ]
     },
     "execution_count": 74,
     "metadata": {},
     "output_type": "execute_result"
    }
   ],
   "source": [
    "df = table.copy()\n",
    "# df = df[datetime.datetime.now() - df.date == 1]\n",
    "df[df.content_type == 'report'].groupby('extra')['post_id'].count().reset_index()"
   ]
  },
  {
   "cell_type": "code",
   "execution_count": null,
   "metadata": {},
   "outputs": [],
   "source": [
    "select extra, count(distinct post_id) as cnt\n",
    "from table\n",
    "where date_diff('day', date, current_date) = 1 and content_type = 'report'\n",
    "group by extra"
   ]
  },
  {
   "cell_type": "code",
   "execution_count": null,
   "metadata": {},
   "outputs": [],
   "source": [
    "select extra, count(distinct post_id) from table\n",
    "where date_diff('day', date, current_date) = 1 and content_type = 'report'\n",
    "group by extra"
   ]
  },
  {
   "cell_type": "markdown",
   "metadata": {},
   "source": [
    "### Q2 What percentage of the posts viewed by the users yesterday is reported as spam?"
   ]
  },
  {
   "cell_type": "code",
   "execution_count": 79,
   "metadata": {},
   "outputs": [
    {
     "data": {
      "text/plain": [
       "0.5"
      ]
     },
     "execution_count": 79,
     "metadata": {},
     "output_type": "execute_result"
    }
   ],
   "source": [
    "df = table.copy()\n",
    "# df = df[datetime.datetime.now() - df.date == 1]\n",
    "df = df[df.content_type == 'view']\n",
    "df = df.merge(review_removal, on = 'post_id', how = 'left')\n",
    "df['spam'] = np.where(df.reviewer_id.isnull(),0,1)\n",
    "df['spam'].sum()/(df['spam'].count()+0.0)"
   ]
  },
  {
   "cell_type": "code",
   "execution_count": null,
   "metadata": {},
   "outputs": [],
   "source": [
    "select sum(case when reviewer_id is null then 0 else 1 end)/count(distinct post_id) as ratio\n",
    "from table\n",
    "left join review_removal\n",
    "on post_id = post_id\n",
    "where date_diff('day', table.date, current_date) = 1 and content_type = 'view'"
   ]
  },
  {
   "cell_type": "code",
   "execution_count": null,
   "metadata": {},
   "outputs": [],
   "source": [
    "select sum(case when reviewer_id is null then 0 else then 1 end)/count(distinct post_id) from table\n",
    "left join reviewer_removal\n",
    "on table.post_id = reviewer_removal.post_id\n",
    "where date_diff('day', table.date, current_date) = 1  and content_type = 'view'"
   ]
  },
  {
   "cell_type": "markdown",
   "metadata": {},
   "source": [
    "# Survey question skip"
   ]
  },
  {
   "cell_type": "markdown",
   "metadata": {},
   "source": [
    "##### 刚加入的用户会要求填一份调查问卷，但问卷里的问题也可以跳过，每道题只要被用户见到就会生成一条记录（event为saw），如果被回答或者被跳过会生成另一条数据（即每道题每个用户都会有两条记录），回答则event为answered，跳过即为skip。并且每道题出现在每个用户前的顺序有可能不同，所以有question_order。假设该表里已经存了1M用户的数据，在一个新用户进来时，如何安排题目尽可能多地得到新用户的答案，减少skip？"
   ]
  },
  {
   "cell_type": "code",
   "execution_count": 117,
   "metadata": {},
   "outputs": [],
   "source": [
    "survey_log = pd.DataFrame({'user_id':[1,1,2,2,2,2,3,3,4,4,4,4],\n",
    "                          'question_id':[1,1,2,2,3,3,4,4,5,5,6,6],\n",
    "                          'question_order':[1,1,3,3,2,2,4,4,6,6,5,5],\n",
    "                          'event':['saw', 'answered', 'saw', 'answered', 'saw', 'answered', \n",
    "                                   'saw', 'skipped', 'saw', 'answered', 'saw', 'skipped'],\n",
    "                          'timestamp':['08:00', '08:01', '08:00', '08:02', '08:00', '08:01',\n",
    "                                      '08:01', '08:01', '08:02', '08:04', '08:00', '08:01']\n",
    "                          })"
   ]
  },
  {
   "cell_type": "markdown",
   "metadata": {},
   "source": [
    "### Q1 每道题的回答率，注意不能只求回答次数，要除以总的看见此题的次数"
   ]
  },
  {
   "cell_type": "code",
   "execution_count": 118,
   "metadata": {},
   "outputs": [],
   "source": [
    "df = survey_log.copy()\n",
    "df = (df[df.event == 'answered'].groupby('question_id')['user_id'].count()/\n",
    " (df[df.event == 'saw'].groupby('question_id')['user_id'].count()+0.0))\n",
    "answer_rate = df.reset_index().sort_values(by = 'user_id', ascending = False)"
   ]
  },
  {
   "cell_type": "code",
   "execution_count": 119,
   "metadata": {},
   "outputs": [
    {
     "data": {
      "text/html": [
       "<div>\n",
       "<style scoped>\n",
       "    .dataframe tbody tr th:only-of-type {\n",
       "        vertical-align: middle;\n",
       "    }\n",
       "\n",
       "    .dataframe tbody tr th {\n",
       "        vertical-align: top;\n",
       "    }\n",
       "\n",
       "    .dataframe thead th {\n",
       "        text-align: right;\n",
       "    }\n",
       "</style>\n",
       "<table border=\"1\" class=\"dataframe\">\n",
       "  <thead>\n",
       "    <tr style=\"text-align: right;\">\n",
       "      <th></th>\n",
       "      <th>question_id</th>\n",
       "      <th>user_id</th>\n",
       "    </tr>\n",
       "  </thead>\n",
       "  <tbody>\n",
       "    <tr>\n",
       "      <th>0</th>\n",
       "      <td>1</td>\n",
       "      <td>1.0</td>\n",
       "    </tr>\n",
       "    <tr>\n",
       "      <th>1</th>\n",
       "      <td>2</td>\n",
       "      <td>1.0</td>\n",
       "    </tr>\n",
       "    <tr>\n",
       "      <th>2</th>\n",
       "      <td>3</td>\n",
       "      <td>1.0</td>\n",
       "    </tr>\n",
       "    <tr>\n",
       "      <th>4</th>\n",
       "      <td>5</td>\n",
       "      <td>1.0</td>\n",
       "    </tr>\n",
       "    <tr>\n",
       "      <th>3</th>\n",
       "      <td>4</td>\n",
       "      <td>NaN</td>\n",
       "    </tr>\n",
       "    <tr>\n",
       "      <th>5</th>\n",
       "      <td>6</td>\n",
       "      <td>NaN</td>\n",
       "    </tr>\n",
       "  </tbody>\n",
       "</table>\n",
       "</div>"
      ],
      "text/plain": [
       "   question_id  user_id\n",
       "0            1      1.0\n",
       "1            2      1.0\n",
       "2            3      1.0\n",
       "4            5      1.0\n",
       "3            4      NaN\n",
       "5            6      NaN"
      ]
     },
     "execution_count": 119,
     "metadata": {},
     "output_type": "execute_result"
    }
   ],
   "source": [
    "answer_rate"
   ]
  },
  {
   "cell_type": "code",
   "execution_count": null,
   "metadata": {},
   "outputs": [],
   "source": [
    "select question_id, \n",
    "sum(case when event = 'answered' then 1 else 0 end)/sum(case when event = 'saw' then 1 else 0 end) as ratio\n",
    "from survey_log\n",
    "group by question_id\n",
    "order by ratio desc"
   ]
  },
  {
   "cell_type": "code",
   "execution_count": null,
   "metadata": {},
   "outputs": [],
   "source": [
    "select question_id,\n",
    "sum(case when event = 'answered' then 1 else 0 end)/sum(case when event = 'saw' then 1 else 0 end) as ratio\n",
    "from survey_log\n",
    "group by question_id\n",
    "order by ratio desc"
   ]
  },
  {
   "cell_type": "markdown",
   "metadata": {},
   "source": [
    "### Q2 即使按照回答率对题目进行排序，如果新来的用户已经skip掉了回答率最高和次高的题，如何动态调整题目顺序，获得此用户尽可能多的回答"
   ]
  },
  {
   "cell_type": "markdown",
   "metadata": {},
   "source": [
    "#### ANSWER - find the users who also skip those two questions and see what their third question is"
   ]
  },
  {
   "cell_type": "code",
   "execution_count": 132,
   "metadata": {},
   "outputs": [
    {
     "data": {
      "text/html": [
       "<div>\n",
       "<style scoped>\n",
       "    .dataframe tbody tr th:only-of-type {\n",
       "        vertical-align: middle;\n",
       "    }\n",
       "\n",
       "    .dataframe tbody tr th {\n",
       "        vertical-align: top;\n",
       "    }\n",
       "\n",
       "    .dataframe thead th {\n",
       "        text-align: right;\n",
       "    }\n",
       "</style>\n",
       "<table border=\"1\" class=\"dataframe\">\n",
       "  <thead>\n",
       "    <tr style=\"text-align: right;\">\n",
       "      <th></th>\n",
       "      <th>question_id</th>\n",
       "      <th>user_id</th>\n",
       "    </tr>\n",
       "  </thead>\n",
       "  <tbody>\n",
       "    <tr>\n",
       "      <th>0</th>\n",
       "      <td>2</td>\n",
       "      <td>1.0</td>\n",
       "    </tr>\n",
       "  </tbody>\n",
       "</table>\n",
       "</div>"
      ],
      "text/plain": [
       "   question_id  user_id\n",
       "0            2      1.0"
      ]
     },
     "execution_count": 132,
     "metadata": {},
     "output_type": "execute_result"
    }
   ],
   "source": [
    "first_users = survey_log[(survey_log.question_order==1) &\n",
    "           (survey_log.question_id==answer_rate['question_id'].iloc[0]) &\n",
    "           (survey_log.event == 'answered')]['user_id']\n",
    "second_users = survey_log[(survey_log.question_order==2) &\n",
    "           (survey_log.question_id==answer_rate['question_id'].iloc[1]) &\n",
    "           (survey_log.event == 'answered')]['user_id']\n",
    "historical_users = list(set(first_users).intersection(set(second_users)))\n",
    "historical_users = [1,2,3,4,5,6]\n",
    "third_question = list(survey_log[(survey_log.question_order == 3) &\n",
    "           (survey_log.user_id.isin(historical_users)) &\n",
    "          (survey_log.event == 'answered')]['question_id'])\n",
    "\n",
    "((survey_log[(survey_log.event == 'answered')&(survey_log.question_id.isin(third_question))].groupby('question_id')['user_id'].count()/\n",
    " (survey_log[(survey_log.event == 'saw')&(survey_log.question_id.isin(third_question))].groupby('question_id')['user_id'].count()+0.0))\n",
    ".reset_index().sort_values(by = 'user_id', ascending = False))"
   ]
  },
  {
   "cell_type": "code",
   "execution_count": null,
   "metadata": {},
   "outputs": [],
   "source": [
    "with top_two as (\n",
    "select question_id\n",
    "from survey_log\n",
    "group by question_id\n",
    "order by sum(case when event = 'answered' then 1 else 0 end)/sum(case when event = 'saw' then 1 else 0 end) desc\n",
    "limit 2),\n",
    "\n",
    "top_two_skip_user as\n",
    "(select distinct user_id from survey_log\n",
    "where question_id in top_two and event = 'skipped'\n",
    "group by user_id\n",
    "having count(distinct question_id)=2)\n",
    "\n",
    "select question_id from survey_log\n",
    "where user_id is in top_two_skip_user and question_order = 3 and event = 'answered'\n",
    "group by question_id\n",
    "order by count(distinct user_id) DESC\n",
    "LIMIT 1"
   ]
  },
  {
   "cell_type": "code",
   "execution_count": null,
   "metadata": {},
   "outputs": [],
   "source": [
    "with top_two as (\n",
    "select question_id\n",
    "from survey_log\n",
    "group by question_id\n",
    "order by sum(case when event = 'answered' then 1 else 0 end)/sum(case when event = 'saw' then 1 else 0 end) desc\n",
    "    limit 2\n",
    "),\n",
    "top_two_skip_user as \n",
    "(\n",
    "select user_id from survey_log\n",
    "where question_id in top_two and event = 'skipped'\n",
    "    group by user_id\n",
    "    having count(question_id)=2\n",
    ")\n",
    "\n",
    "select question_id from survey_log\n",
    "where user_id in top_two_skip_user and question_id not in top_two\n",
    "group by question_id\n",
    "order by sum(case when event = 'answered' then 1 else 0 end)/sum(case when event = 'saw' then 1 else 0 end) desc\n",
    "limit 1"
   ]
  },
  {
   "cell_type": "markdown",
   "metadata": {},
   "source": [
    "# Friend interactions"
   ]
  },
  {
   "cell_type": "code",
   "execution_count": 134,
   "metadata": {},
   "outputs": [],
   "source": [
    "friend = pd.DataFrame({'user_id_1':[1,2,3,4,5,6,7,8],\n",
    "                       'user_id_2':[2,8,5,5,6,1,6,6]})\n",
    "interaction = pd.DataFrame({'sender_id':[1,1,2,3,4,4,5,6,7,7,6],\n",
    "                            'receipient_id':[2,6,1,5,5,5,6,5,6,6,5],\n",
    "                            'action':['comment', 'comment', 'share', 'share', 'share',\n",
    "                                     'comment', 'comment', 'share', 'comment', 'share', 'comment']})\n"
   ]
  },
  {
   "cell_type": "markdown",
   "metadata": {},
   "source": [
    "### Q1 问怎么知道每队好友互动(comment _ share)多少次呢"
   ]
  },
  {
   "cell_type": "code",
   "execution_count": 141,
   "metadata": {},
   "outputs": [
    {
     "data": {
      "text/html": [
       "<div>\n",
       "<style scoped>\n",
       "    .dataframe tbody tr th:only-of-type {\n",
       "        vertical-align: middle;\n",
       "    }\n",
       "\n",
       "    .dataframe tbody tr th {\n",
       "        vertical-align: top;\n",
       "    }\n",
       "\n",
       "    .dataframe thead th {\n",
       "        text-align: right;\n",
       "    }\n",
       "</style>\n",
       "<table border=\"1\" class=\"dataframe\">\n",
       "  <thead>\n",
       "    <tr style=\"text-align: right;\">\n",
       "      <th></th>\n",
       "      <th></th>\n",
       "      <th></th>\n",
       "      <th>receipient_id</th>\n",
       "      <th>sender_id</th>\n",
       "    </tr>\n",
       "    <tr>\n",
       "      <th>user_id_1</th>\n",
       "      <th>user_id_2</th>\n",
       "      <th>action</th>\n",
       "      <th></th>\n",
       "      <th></th>\n",
       "    </tr>\n",
       "  </thead>\n",
       "  <tbody>\n",
       "    <tr>\n",
       "      <th rowspan=\"2\" valign=\"top\">1.0</th>\n",
       "      <th rowspan=\"2\" valign=\"top\">2.0</th>\n",
       "      <th>comment</th>\n",
       "      <td>1</td>\n",
       "      <td>1</td>\n",
       "    </tr>\n",
       "    <tr>\n",
       "      <th>share</th>\n",
       "      <td>1</td>\n",
       "      <td>1</td>\n",
       "    </tr>\n",
       "    <tr>\n",
       "      <th>3.0</th>\n",
       "      <th>5.0</th>\n",
       "      <th>share</th>\n",
       "      <td>1</td>\n",
       "      <td>1</td>\n",
       "    </tr>\n",
       "    <tr>\n",
       "      <th rowspan=\"2\" valign=\"top\">4.0</th>\n",
       "      <th rowspan=\"2\" valign=\"top\">5.0</th>\n",
       "      <th>comment</th>\n",
       "      <td>1</td>\n",
       "      <td>1</td>\n",
       "    </tr>\n",
       "    <tr>\n",
       "      <th>share</th>\n",
       "      <td>1</td>\n",
       "      <td>1</td>\n",
       "    </tr>\n",
       "    <tr>\n",
       "      <th rowspan=\"2\" valign=\"top\">5.0</th>\n",
       "      <th rowspan=\"2\" valign=\"top\">6.0</th>\n",
       "      <th>comment</th>\n",
       "      <td>2</td>\n",
       "      <td>2</td>\n",
       "    </tr>\n",
       "    <tr>\n",
       "      <th>share</th>\n",
       "      <td>1</td>\n",
       "      <td>1</td>\n",
       "    </tr>\n",
       "    <tr>\n",
       "      <th>6.0</th>\n",
       "      <th>1.0</th>\n",
       "      <th>comment</th>\n",
       "      <td>1</td>\n",
       "      <td>1</td>\n",
       "    </tr>\n",
       "    <tr>\n",
       "      <th rowspan=\"2\" valign=\"top\">7.0</th>\n",
       "      <th rowspan=\"2\" valign=\"top\">6.0</th>\n",
       "      <th>comment</th>\n",
       "      <td>1</td>\n",
       "      <td>1</td>\n",
       "    </tr>\n",
       "    <tr>\n",
       "      <th>share</th>\n",
       "      <td>1</td>\n",
       "      <td>1</td>\n",
       "    </tr>\n",
       "  </tbody>\n",
       "</table>\n",
       "</div>"
      ],
      "text/plain": [
       "                             receipient_id  sender_id\n",
       "user_id_1 user_id_2 action                           \n",
       "1.0       2.0       comment              1          1\n",
       "                    share                1          1\n",
       "3.0       5.0       share                1          1\n",
       "4.0       5.0       comment              1          1\n",
       "                    share                1          1\n",
       "5.0       6.0       comment              2          2\n",
       "                    share                1          1\n",
       "6.0       1.0       comment              1          1\n",
       "7.0       6.0       comment              1          1\n",
       "                    share                1          1"
      ]
     },
     "execution_count": 141,
     "metadata": {},
     "output_type": "execute_result"
    }
   ],
   "source": [
    "df = interaction.copy()\n",
    "temp1 = df.merge(friend, left_on = ['sender_id', 'receipient_id'], right_on = ['user_id_1', 'user_id_2'], how = 'left')\n",
    "temp2 = df.merge(friend, left_on = ['sender_id', 'receipient_id'], right_on = ['user_id_2', 'user_id_1'], how = 'left')\n",
    "temp = pd.concat([temp1, temp2])\n",
    "temp.groupby(['user_id_1', 'user_id_2', 'action']).count()"
   ]
  },
  {
   "cell_type": "code",
   "execution_count": null,
   "metadata": {},
   "outputs": [],
   "source": [
    "--litez: may want to first clarify that no `duplicates` in friend, i.e., given (user_id_1:[1], user_id_2[2]), \n",
    "-- there is no (user_id_1:[2], user_id_2[1]), \n",
    "\n",
    "with temp1 as\n",
    "(select * from interaction\n",
    " left join friend\n",
    " on sender_id = user_id_1 and receipient_id = user_id_2\n",
    "),\n",
    "temp2 as\n",
    "(select * from interaction\n",
    " left join friend\n",
    " on sender_id = user_id_2 and receipient_id = user_id_1\n",
    ")\n",
    "\n",
    "select user_id_1, user_id_2, action, count(*) from\n",
    "(select * from temp1\n",
    "union\n",
    "select * from temp2)\n",
    "group by user_id_1, user_id_2, action"
   ]
  },
  {
   "cell_type": "code",
   "execution_count": null,
   "metadata": {},
   "outputs": [],
   "source": []
  },
  {
   "cell_type": "markdown",
   "metadata": {},
   "source": [
    "# Instagram adding video chat feature"
   ]
  },
  {
   "cell_type": "code",
   "execution_count": 145,
   "metadata": {},
   "outputs": [],
   "source": [
    "table = pd.DataFrame({'date':['2018-05-05','2018-05-05','2018-05-06'],\n",
    "                      'caller_id':[1234,1234,1234],\n",
    "                      'receiver_id':[7567,3669,8998],\n",
    "                      'duration':[63.4,50.6,0.0],\n",
    "                      'caller_country':['ES', 'ES', 'ES'],\n",
    "                      'receiver_country':['ES', 'ES', 'PT']\n",
    "                     })\n"
   ]
  },
  {
   "cell_type": "markdown",
   "metadata": {},
   "source": [
    "### Q: for people who used the feature *for the first time* on 2018-05-05, how many people used the feature X days later?"
   ]
  },
  {
   "cell_type": "code",
   "execution_count": 163,
   "metadata": {},
   "outputs": [
    {
     "data": {
      "text/html": [
       "<div>\n",
       "<style scoped>\n",
       "    .dataframe tbody tr th:only-of-type {\n",
       "        vertical-align: middle;\n",
       "    }\n",
       "\n",
       "    .dataframe tbody tr th {\n",
       "        vertical-align: top;\n",
       "    }\n",
       "\n",
       "    .dataframe thead th {\n",
       "        text-align: right;\n",
       "    }\n",
       "</style>\n",
       "<table border=\"1\" class=\"dataframe\">\n",
       "  <thead>\n",
       "    <tr style=\"text-align: right;\">\n",
       "      <th></th>\n",
       "      <th>caller_country</th>\n",
       "      <th>caller_id</th>\n",
       "      <th>date</th>\n",
       "      <th>duration</th>\n",
       "      <th>receiver_country</th>\n",
       "      <th>receiver_id</th>\n",
       "    </tr>\n",
       "    <tr>\n",
       "      <th>date_diff</th>\n",
       "      <th></th>\n",
       "      <th></th>\n",
       "      <th></th>\n",
       "      <th></th>\n",
       "      <th></th>\n",
       "      <th></th>\n",
       "    </tr>\n",
       "  </thead>\n",
       "  <tbody>\n",
       "    <tr>\n",
       "      <th>1</th>\n",
       "      <td>1</td>\n",
       "      <td>1</td>\n",
       "      <td>1</td>\n",
       "      <td>1</td>\n",
       "      <td>1</td>\n",
       "      <td>1</td>\n",
       "    </tr>\n",
       "  </tbody>\n",
       "</table>\n",
       "</div>"
      ],
      "text/plain": [
       "           caller_country  caller_id  date  duration  receiver_country  \\\n",
       "date_diff                                                                \n",
       "1                       1          1     1         1                 1   \n",
       "\n",
       "           receiver_id  \n",
       "date_diff               \n",
       "1                    1  "
      ]
     },
     "execution_count": 163,
     "metadata": {},
     "output_type": "execute_result"
    }
   ],
   "source": [
    "first_time = table.copy()\n",
    "first_time = pd.concat([first_time.groupby('caller_id')['date'].min().reset_index().rename(columns = {'caller_id':'user_id'}),\n",
    " first_time.groupby('receiver_id')['date'].min().reset_index().rename(columns = {'receiver_id':'user_id'})])\n",
    "first_time = first_time[first_time.date == '2018-05-05']\n",
    "df = table[(table.caller_id.isin(first_time['user_id'])) | (table.receiver_id.isin(first_time['user_id']))]\n",
    "df['date'] = pd.to_datetime(df.date)\n",
    "df['date_diff'] = (df.date - pd.to_datetime('2018-05-05')).dt.days\n",
    "df[df.date_diff>0].groupby('date_diff').count()"
   ]
  },
  {
   "cell_type": "code",
   "execution_count": null,
   "metadata": {},
   "outputs": [],
   "source": [
    "with caller_first as\n",
    "(select caller_id from table\n",
    " group by caller_id\n",
    " having min(date) = '2018-05-05'\n",
    "),\n",
    "receiver_first as\n",
    "(select receiver_id from table\n",
    " group by receiver_id\n",
    " having min(date) = '2018-05-05'\n",
    "),\n",
    "with first_user as\n",
    "(select caller_id as user_id \n",
    "from caller_first\n",
    "union\n",
    "select * from receiver first\n",
    ")\n",
    "\n",
    "select \n",
    "    date_diff('day', '2018-05-05', date) as X, \n",
    "    --litez: a user_id can be both a caller and a receiver\n",
    "    count(distinct user_id) \n",
    "from table\n",
    "where caller_id in first_user or receiver_id in first_user and date != '2018-05-05'\n",
    "group by X"
   ]
  },
  {
   "cell_type": "code",
   "execution_count": null,
   "metadata": {},
   "outputs": [],
   "source": [
    "with first_time as\n",
    "(select caller_id as user_id from table\n",
    " group by caller_id\n",
    " having min(date) = '2018-05-05'\n",
    " union\n",
    " select receiver_id as user_id from table\n",
    " group by receiver_id\n",
    " having min(date) = '2018-05-05'\n",
    ")\n",
    "\n",
    "select date_diff('day', date, '2018-05-05') as X, count(*) from table\n",
    "where caller_id in first_time or receiver_id in first_time and date != '2018-05-05'\n",
    "group by X"
   ]
  },
  {
   "cell_type": "markdown",
   "metadata": {},
   "source": [
    "# Daily Active User"
   ]
  },
  {
   "cell_type": "code",
   "execution_count": 165,
   "metadata": {},
   "outputs": [],
   "source": [
    "dau = pd.DataFrame({'user_id':[1,2,3,4,5,1,2,3,3,4],\n",
    "                   'ds':['2018-05-05','2018-05-05','2018-05-06','2018-05-05','2018-05-05',\n",
    "                        '2018-05-05','2018-05-07','2018-05-06', '2018-05-07','2018-05-05']})\n"
   ]
  },
  {
   "cell_type": "markdown",
   "metadata": {},
   "source": [
    "### Q: Return a table which has columns: ds, user_ud, state. State includes 'new', 'churned', 'resurrected' and 'retained'\n"
   ]
  },
  {
   "cell_type": "markdown",
   "metadata": {},
   "source": [
    "#### 新用户就是第一次来的用户。churned就是今天没有来的。resurrected就是昨天之前都没来的老用户今天来了。retained就是昨天来了今天也来了的老用户"
   ]
  },
  {
   "cell_type": "code",
   "execution_count": 178,
   "metadata": {},
   "outputs": [
    {
     "name": "stdout",
     "output_type": "stream",
     "text": [
      "    ds_today  user_id ds_yesterday  ds_before     state\n",
      "0 2018-05-07        2          NaT 2018-05-05       new\n",
      "1 2018-05-07        3   2018-05-06        NaT  retained\n",
      "2 2018-05-07        3   2018-05-06        NaT  retained\n",
      "3        NaT        1          NaT 2018-05-05   churned\n",
      "4        NaT        1          NaT 2018-05-05   churned\n",
      "5        NaT        4          NaT 2018-05-05   churned\n",
      "6        NaT        4          NaT 2018-05-05   churned\n",
      "7        NaT        5          NaT 2018-05-05   churned\n"
     ]
    }
   ],
   "source": [
    "dau['ds'] = pd.to_datetime(dau.ds)\n",
    "today = dau[(pd.to_datetime('2018-05-07') - dau.ds).dt.days ==0]\n",
    "yesterday = dau[(pd.to_datetime('2018-05-07') - dau.ds).dt.days ==1]\n",
    "before_yesterday = dau[(pd.to_datetime('2018-05-07') - dau.ds).dt.days ==2]\n",
    "\n",
    "df = today.merge(yesterday, on = 'user_id', how = 'outer', suffixes = ['_today', '_yesterday'])\n",
    "df = df.merge(before_yesterday, on = 'user_id', how = 'outer').rename(columns = {'ds':'ds_before'})\n",
    "df['state'] = np.where((df.ds_yesterday.isnull())&(df.ds_today.notnull()), 'new',\n",
    "                       np.where((df.ds_yesterday.notnull())&(df.ds_today.notnull()), 'retained', \n",
    "                                np.where((df.ds_today.isnull()), 'churned', \n",
    "                      np.where((df.ds_yesterday.isnull())&(df.ds_before.isnull())&(df.ds_today.notnull()), 'resurrected', 'null'))))\n",
    "print df"
   ]
  },
  {
   "cell_type": "code",
   "execution_count": null,
   "metadata": {},
   "outputs": [],
   "source": [
    "with today as\n",
    "(select * from dau\n",
    "where date_diff('day', ds, current_date) = 0),\n",
    "yesterday as\n",
    "(select * from dau\n",
    "where date_diff('day', ds, current_date) = 1),\n",
    "before_yesterday as\n",
    "(select * from dau\n",
    "where date_diff('day', ds, current_date) = 2)\n",
    "\n",
    "select case when yesterday.ds is null and today.ds not null then 'new'\n",
    "        when today.ds is null then 'churned'\n",
    "        when yesterday.ds not null and today.ds not null then 'retained'\n",
    "        when before_yesterday.ds is null and yesterday.ds is null and today.ds not null then 'resurrected'\n",
    "        else 'null' end as state\n",
    "    \n",
    "from today\n",
    "full join yesterday\n",
    "on today.user_id = yesterday.user_id \n",
    "full join before_yesterday\n",
    "on yesterday.user_id = before_yesterday.user_id\n"
   ]
  },
  {
   "cell_type": "code",
   "execution_count": null,
   "metadata": {},
   "outputs": [],
   "source": []
  },
  {
   "cell_type": "markdown",
   "metadata": {},
   "source": [
    "# Follow friends\n",
    "\n"
   ]
  },
  {
   "cell_type": "code",
   "execution_count": 182,
   "metadata": {},
   "outputs": [],
   "source": [
    "table1 = pd.DataFrame({'user_id':[1,2,3,4,5,6,7,8,9], \n",
    "                       'sports':['ft', 'ft', 'bs', 'bs', 'sw', 'sw', 'vb', 'vb', 'ft']}) \n",
    "table2 = pd.DataFrame({'follower_id':[1,2,3,4,5,6,7,8,9],\n",
    "                       'followee_id':[2,5,6,1,1,3,4,5,6]})"
   ]
  },
  {
   "cell_type": "markdown",
   "metadata": {},
   "source": [
    "### Q1 How many people are following each sports category?"
   ]
  },
  {
   "cell_type": "code",
   "execution_count": 183,
   "metadata": {},
   "outputs": [
    {
     "data": {
      "text/plain": [
       "sports\n",
       "bs    2\n",
       "ft    3\n",
       "sw    4\n",
       "Name: follower_id, dtype: int64"
      ]
     },
     "execution_count": 183,
     "metadata": {},
     "output_type": "execute_result"
    }
   ],
   "source": [
    "df = table2.copy()\n",
    "df.merge(table1, left_on = 'followee_id', right_on = 'user_id', how = 'left').groupby('sports')['follower_id'].nunique()"
   ]
  },
  {
   "cell_type": "code",
   "execution_count": null,
   "metadata": {},
   "outputs": [],
   "source": [
    "select sports, count(distinct follower_id) as cnt\n",
    "from (select * from table2\n",
    "left join table1\n",
    "on followee_id = user_id)\n",
    "group by sports"
   ]
  },
  {
   "cell_type": "code",
   "execution_count": null,
   "metadata": {},
   "outputs": [],
   "source": [
    "select sports, count(distinct follower_id) as cnt from table2\n",
    "left join table1\n",
    "on table2.followee_id = table1.user_id\n",
    "group by sports"
   ]
  },
  {
   "cell_type": "markdown",
   "metadata": {},
   "source": [
    "### Q2 How many basketball players are following football players？"
   ]
  },
  {
   "cell_type": "code",
   "execution_count": 185,
   "metadata": {},
   "outputs": [
    {
     "data": {
      "text/plain": [
       "1"
      ]
     },
     "execution_count": 185,
     "metadata": {},
     "output_type": "execute_result"
    }
   ],
   "source": [
    "bsp = table2.copy()\n",
    "bsp = bsp.merge(table1, left_on = 'follower_id', right_on = 'user_id', how = 'left')\n",
    "bsp = bsp[bsp.sports == 'bs']\n",
    "\n",
    "df = bsp.merge(table1, left_on = 'followee_id', right_on = 'user_id', how = 'left', suffixes = ('_follower', '_followee'))\n",
    "df = df[df.sports_followee == 'ft']\n",
    "df['followee_id'].nunique()"
   ]
  },
  {
   "cell_type": "code",
   "execution_count": null,
   "metadata": {},
   "outputs": [],
   "source": [
    "select count(distinct follower_id) as cnt\n",
    "from \n",
    "(select follower_id, followee_id, sports as sports_follower from table2\n",
    "left join table1\n",
    "on follower_id = user_id\n",
    "where sports = 'basketball') as bsp\n",
    "left join table1\n",
    "on followee_id = user_id\n",
    "where table1.sports = 'football'\n",
    "\n",
    "\n",
    "Select basket as (Select user_name from sports\n",
    "Where sports = ‘basketball’)\n",
    "Select football as (select user_name from sports\n",
    "Where sports = ‘football’)\n",
    "Select count(distinct follower_id) from follow\n",
    "Where follower_id is in basket and followee_id is in football\n"
   ]
  },
  {
   "cell_type": "code",
   "execution_count": null,
   "metadata": {},
   "outputs": [],
   "source": [
    "select count(distinct follower_id) from table2\n",
    "left join table1 a\n",
    "on table2.follower_id = table1.user_id\n",
    "left join table1 b\n",
    "on table2.followee_id = table1.user_id\n",
    "where a.sports = 'bs' and b.sports = 'ft'"
   ]
  },
  {
   "cell_type": "markdown",
   "metadata": {},
   "source": [
    "# User Active or Banned"
   ]
  },
  {
   "cell_type": "code",
   "execution_count": 190,
   "metadata": {},
   "outputs": [],
   "source": [
    "ad = pd.DataFrame({'id':[1,2,3,4,5,6,7,8,9,10],\n",
    "                   'date':['2018-05-05','2018-05-05','2018-05-06','2018-05-05','2018-05-05',\n",
    "                        '2018-05-05','2018-05-07','2018-05-06', '2018-05-07','2018-05-05'],\n",
    "                  'amount':[123,456,789,135,235,678,346,256,7467,235],\n",
    "                  'status':['banned', 'banned', 'active', 'active', 'banned',\n",
    "                           'banned', 'active', 'active', 'banned', 'banned']})"
   ]
  },
  {
   "cell_type": "markdown",
   "metadata": {},
   "source": [
    "### Q1 昨天百分之多少的正常advertiser是活跃的（有付钱）"
   ]
  },
  {
   "cell_type": "code",
   "execution_count": 193,
   "metadata": {},
   "outputs": [
    {
     "data": {
      "text/plain": [
       "1.0"
      ]
     },
     "execution_count": 193,
     "metadata": {},
     "output_type": "execute_result"
    }
   ],
   "source": [
    "df = ad.copy()\n",
    "df['date'] = pd.to_datetime(df['date'])\n",
    "# df = df[(datetime.datetime.now() - df['date']).dt.days == 1]\n",
    "len(df[(df.status!='banned')&(df.amount>0)])/(len(df[df.status!='banned'])+0.0)"
   ]
  },
  {
   "cell_type": "code",
   "execution_count": null,
   "metadata": {},
   "outputs": [],
   "source": [
    "select sum(case when amount > 0 then 1 else 0 end) / count(distinct id)\n",
    "from ad\n",
    "where date_diff('day', date, current_date) = 1 and status != 'banned'"
   ]
  },
  {
   "cell_type": "code",
   "execution_count": null,
   "metadata": {},
   "outputs": [],
   "source": [
    "select sum(case when amount>0 then1 else 0 end)/count(distinct id) from ad\n",
    "where date_diff('day', date, current_date) = 1 and status!= 'banned'"
   ]
  },
  {
   "cell_type": "markdown",
   "metadata": {},
   "source": [
    "### Q2 昨天有多少被封了。注意是昨天被封的，不包括昨天以前被封的。"
   ]
  },
  {
   "cell_type": "code",
   "execution_count": 198,
   "metadata": {},
   "outputs": [
    {
     "data": {
      "text/plain": [
       "0"
      ]
     },
     "execution_count": 198,
     "metadata": {},
     "output_type": "execute_result"
    }
   ],
   "source": [
    "df = ad.copy()\n",
    "df['date'] = pd.to_datetime(df.date)\n",
    "df = df.loc[df[df.status == 'banned'].groupby('id')['date'].idxmin()]\n",
    "len(df[(datetime.datetime.now() - df['date']).dt.days==10])"
   ]
  },
  {
   "cell_type": "code",
   "execution_count": 201,
   "metadata": {},
   "outputs": [
    {
     "data": {
      "text/plain": [
       "6"
      ]
     },
     "execution_count": 201,
     "metadata": {},
     "output_type": "execute_result"
    }
   ],
   "source": [
    "df.sort_values(by = ['id', 'date'], inplace=True)\n",
    "df['pre'] = np.where(df['id'].shift(1) == df.id, df.status.shift(1), 'null')\n",
    "(len(df[(df.status=='banned') &((df.pre!='banned')|(df.pre.isnull()))]))"
   ]
  },
  {
   "cell_type": "code",
   "execution_count": null,
   "metadata": {},
   "outputs": [],
   "source": [
    "select *\n",
    "from\n",
    "(select *, lag(status, 1) over (partition by id order by date asc) as pre from ad) as temp\n",
    "where status=='banned' and (pre!='banned' or pre is null)"
   ]
  },
  {
   "cell_type": "code",
   "execution_count": null,
   "metadata": {},
   "outputs": [],
   "source": [
    "select count(*) \n",
    "from\n",
    "(select *, lag(status, 1) over (partition by id order by date) as pre from ad\n",
    "where status = 'banned' and (pre != 'banned' or pre is null)) and date_diff('day', date, current_date) = 1\n",
    "\n",
    "\n",
    "\n",
    "\n",
    "with before_yesterday as (select id, date, status from ad\n",
    "where date_diff('day', date, current_date) = 2)\n",
    "\n",
    "select * from ad\n",
    "left join before_yesterday\n",
    "on ad.id = before_yesterday_id\n",
    "where date_diff('day', ad.date, current_date) = 1 and ad.status = 'banned' \n",
    "and (before_yesterday.status != 'banned' or before_yesterday.status is null)\n"
   ]
  },
  {
   "cell_type": "markdown",
   "metadata": {},
   "source": [
    "# Advertisement"
   ]
  },
  {
   "cell_type": "code",
   "execution_count": 219,
   "metadata": {},
   "outputs": [],
   "source": [
    "table = pd.DataFrame({'Advertise_id':[1,1,2,3,3,3,4,5,6,6,5,2,7,7,4],\n",
    "                      'User_id':[1,2,3,4,2,4,5,4,6,7,2,3,4,3,2],\n",
    "                      'Time_stamp':['08:00', '08:01', '08:00', '08:02', '08:00', '08:01',\n",
    "                                      '08:01', '08:01', '08:02', '08:04', '08:00', '08:01',\n",
    "                                   '08:04', '08:06', '08:02'],\n",
    "                      'Action':['view', 'view', 'click', 'click', 'click',\n",
    "                               'view', 'click', 'view', 'hide', 'hide',\n",
    "                                'click', 'view', 'hide', 'view', 'click']}) "
   ]
  },
  {
   "cell_type": "markdown",
   "metadata": {},
   "source": [
    "### Q1 找出过去十天表现最好的一个广告。注意，因为面试官没有直接告诉你怎么定义最好的广告，所以你要先和面试官确定是用click through rate 还是＃of clicks"
   ]
  },
  {
   "cell_type": "code",
   "execution_count": 212,
   "metadata": {},
   "outputs": [
    {
     "data": {
      "text/plain": [
       "1.0"
      ]
     },
     "execution_count": 212,
     "metadata": {},
     "output_type": "execute_result"
    }
   ],
   "source": [
    "df = table.copy()\n",
    "# df = df[(datetime.datetime.now() - df.Time_stamp).dt.days <=10]\n",
    "df = (df[df.Action == 'click'].groupby('Advertise_id')['User_id'].count()+0.0)/df[df.Action == 'view'].groupby('Advertise_id')['User_id'].count()\n",
    "df.reset_index()['User_id'].max()"
   ]
  },
  {
   "cell_type": "code",
   "execution_count": 215,
   "metadata": {
    "collapsed": true
   },
   "outputs": [
    {
     "ename": "SyntaxError",
     "evalue": "invalid syntax (<ipython-input-215-9aa9f47c9dc2>, line 1)",
     "output_type": "error",
     "traceback": [
      "\u001b[0;36m  File \u001b[0;32m\"<ipython-input-215-9aa9f47c9dc2>\"\u001b[0;36m, line \u001b[0;32m1\u001b[0m\n\u001b[0;31m    select Advertise_id,\u001b[0m\n\u001b[0m                      ^\u001b[0m\n\u001b[0;31mSyntaxError\u001b[0m\u001b[0;31m:\u001b[0m invalid syntax\n"
     ]
    }
   ],
   "source": [
    "select Advertise_id, \n",
    "--litez: the corner case where denominator is zero\n",
    "sum(case when Action = 'click' then 1 else 0 end)/sum(case when Action = 'view' then 1 else 0 end) as ctr\n",
    "from table\n",
    "where date_diff('day', Time_stamp, current_date) <=10\n",
    "group by Advertise_id\n",
    "order ctr desc\n",
    "limit 1"
   ]
  },
  {
   "cell_type": "code",
   "execution_count": null,
   "metadata": {},
   "outputs": [],
   "source": [
    "select Advertise_id, \n",
    "sum(case when Action = 'click' then 1 else 0 end)/sum(case when Action = 'view' then 1 else 0 end) as ctr\n",
    "from table\n",
    "where date_diff('day', Time_stamp, current_date) <= 10\n",
    "group by Advertise_id\n",
    "order by ctr desc\n",
    "limit 1"
   ]
  },
  {
   "cell_type": "markdown",
   "metadata": {},
   "source": [
    "### Q2 如果我们给用户A看了广告X，用户A点击了广告X，请问我们要怎么决定接下来给客户A看哪个广告？这个其实有一点像SQL＋Case问题，因为首先你先要告诉面试官，要用怎么样的数据去推荐下一个广告"
   ]
  },
  {
   "cell_type": "code",
   "execution_count": 225,
   "metadata": {},
   "outputs": [
    {
     "data": {
      "text/html": [
       "<div>\n",
       "<style scoped>\n",
       "    .dataframe tbody tr th:only-of-type {\n",
       "        vertical-align: middle;\n",
       "    }\n",
       "\n",
       "    .dataframe tbody tr th {\n",
       "        vertical-align: top;\n",
       "    }\n",
       "\n",
       "    .dataframe thead th {\n",
       "        text-align: right;\n",
       "    }\n",
       "</style>\n",
       "<table border=\"1\" class=\"dataframe\">\n",
       "  <thead>\n",
       "    <tr style=\"text-align: right;\">\n",
       "      <th></th>\n",
       "      <th>Advertise_id</th>\n",
       "      <th>User_id</th>\n",
       "    </tr>\n",
       "  </thead>\n",
       "  <tbody>\n",
       "    <tr>\n",
       "      <th>0</th>\n",
       "      <td>5</td>\n",
       "      <td>NaN</td>\n",
       "    </tr>\n",
       "  </tbody>\n",
       "</table>\n",
       "</div>"
      ],
      "text/plain": [
       "   Advertise_id  User_id\n",
       "0             5      NaN"
      ]
     },
     "execution_count": 225,
     "metadata": {},
     "output_type": "execute_result"
    }
   ],
   "source": [
    "df = table.copy()\n",
    "similar_user = df[(df.Advertise_id == 3) & ((df.Action == 'view')|(df.Action == 'click'))]\n",
    "similar_user = similar_user.groupby(['User_id', 'Advertise_id'])['Action'].count().reset_index()\n",
    "similar_user = similar_user[similar_user.Action==2]['User_id'].tolist()\n",
    "\n",
    "next_ad = df[(df.User_id.isin(similar_user))&(df.Advertise_id != 3)]\n",
    "next_ad = (next_ad[next_ad.Action == 'click'].groupby('Advertise_id')['User_id'].count()+0.0)/next_ad[next_ad.Action == 'view'].groupby('Advertise_id')['User_id'].count()\n",
    "next_ad.reset_index().sort_values(by = 'User_id')"
   ]
  },
  {
   "cell_type": "code",
   "execution_count": null,
   "metadata": {},
   "outputs": [],
   "source": [
    "with similar_user as (\n",
    "select User_id from table\n",
    "where Advertise_id = 'X' and  Action = 'click'\n",
    "\n",
    "select Advertise_id,\n",
    "sum(case when Action = 'click' then 1 else 0 end)/sum(case when Action = 'view' then 1 else 0 end) as ctr\n",
    "from table\n",
    "where User_id in similar_user and Advertise_id != 'X'\n",
    "group by Advertise_id\n",
    "order by ctr desc\n",
    "limit 1"
   ]
  },
  {
   "cell_type": "code",
   "execution_count": null,
   "metadata": {},
   "outputs": [],
   "source": [
    "with X_user as (select User_id from table\n",
    "where Advertise_id = 'X' and Action = 'click')\n",
    "\n",
    "select Advertise_id,\n",
    "sum(case when Action = 'click' then 1 else 0 end)/sum(case when Action = 'view' then 1 else 0 end) as ctr\n",
    "from table\n",
    "where User_id in X_user and Advertise_id != 'X'\n",
    "group by Advertise_id\n",
    "order by ctr desc\n"
   ]
  },
  {
   "cell_type": "markdown",
   "metadata": {},
   "source": [
    "# Video calls"
   ]
  },
  {
   "cell_type": "code",
   "execution_count": 234,
   "metadata": {},
   "outputs": [],
   "source": [
    "video_calls = pd.DataFrame({'caller':[1,1,2,3,4,3,3,4,5,3],\n",
    "                           'receipent':[2,58,3,8,9,2,2,2,4,1],\n",
    "                           'ds':['2020-01-01', '2020-01-02', '2020-01-01', '2020-01-03', '2020-01-01',\n",
    "                                '2020-01-01', '2020-01-02', '2020-01-01', '2020-01-03', '2020-01-01'], \n",
    "                           'call_id':[1,2,3,4,5,6,7,8,9,10],\n",
    "                           'duration':[26,34,56,23,45,67,1,235,44,3]})\n",
    "fb_dau = pd.DataFrame({'user_id':[1,2,3,4,5],\n",
    "                      'DAU_flag':[1,0,1,1,1],\n",
    "                      'ds':['2020-01-01', '2020-01-12', '2020-01-01', '2020-01-01', '2020-01-01'],\n",
    "                      'country':['us', 'us', 'uk', 'uk', 'chn']})\n"
   ]
  },
  {
   "cell_type": "markdown",
   "metadata": {},
   "source": [
    "### Q1 on '2020-01-01' how many people initiate multiple calls?"
   ]
  },
  {
   "cell_type": "code",
   "execution_count": 232,
   "metadata": {},
   "outputs": [
    {
     "data": {
      "text/plain": [
       "2"
      ]
     },
     "execution_count": 232,
     "metadata": {},
     "output_type": "execute_result"
    }
   ],
   "source": [
    "df = video_calls.copy()\n",
    "df = df[df.ds == '2020-01-01']\n",
    "df = df.groupby('caller')['call_id'].count().reset_index()\n",
    "len(df[df.call_id>1])"
   ]
  },
  {
   "cell_type": "code",
   "execution_count": null,
   "metadata": {},
   "outputs": [],
   "source": [
    "select count(caller) from\n",
    "(select caller, count(distinct call_id) as cnt from video_calls\n",
    "where ds = '2020-01-01'\n",
    "group by caller\n",
    "having cnt>1)"
   ]
  },
  {
   "cell_type": "code",
   "execution_count": null,
   "metadata": {},
   "outputs": [],
   "source": [
    "select count(caller) from\n",
    "(select caller, count(distinct call_id) as cnt\n",
    "from video_calls\n",
    "where ds = '2020-01-01'\n",
    "group by caller\n",
    "having cnt > 1)"
   ]
  },
  {
   "cell_type": "markdown",
   "metadata": {},
   "source": [
    "### Q2 % of DAU used the video calls functions by each country on '2020-01-01'?"
   ]
  },
  {
   "cell_type": "code",
   "execution_count": 235,
   "metadata": {},
   "outputs": [
    {
     "name": "stderr",
     "output_type": "stream",
     "text": [
      "/Users/yinan.zheng/workplace/anaconda2/lib/python2.7/site-packages/ipykernel_launcher.py:6: SettingWithCopyWarning: \n",
      "A value is trying to be set on a copy of a slice from a DataFrame.\n",
      "Try using .loc[row_indexer,col_indexer] = value instead\n",
      "\n",
      "See the caveats in the documentation: http://pandas.pydata.org/pandas-docs/stable/indexing.html#indexing-view-versus-copy\n",
      "  \n"
     ]
    },
    {
     "data": {
      "text/plain": [
       "0.75"
      ]
     },
     "execution_count": 235,
     "metadata": {},
     "output_type": "execute_result"
    }
   ],
   "source": [
    "caller_table = video_calls.copy()\n",
    "caller_table = caller_table[caller_table.ds == '2020-01-01']['caller']\n",
    "receipent_table = video_calls.copy()\n",
    "receipent_table = receipent_table[receipent_table.ds == '2020-01-01']['receipent']\n",
    "df = fb_dau[(fb_dau.DAU_flag == 1)]\n",
    "df['indicator'] = np.where(df.user_id.isin(list(set(caller_table).union(set(receipent_table)))), 1, 0)\n",
    "(df.indicator.sum()+0.0)/len(df)"
   ]
  },
  {
   "cell_type": "code",
   "execution_count": null,
   "metadata": {},
   "outputs": [],
   "source": [
    "with user_table as\n",
    "(select caller as user from video_calls\n",
    " where ds = '2020-01-01'\n",
    "union\n",
    "select recipent as user from video_calls\n",
    "  where ds = '2020-01-01'\n",
    ")\n",
    "\n",
    "--litez: two corner cases not being captured here\n",
    "--1) duplicates of user_id in both caller_table and receipient table????\n",
    "--2) possibility of division by zero\n",
    "\n",
    "select country, sum(case when(user_id in user_table) then 1 else 0 end) / count(distinct user_id) \n",
    "from fb_dau\n",
    "where  DAU_flag = 1\n",
    "group by country"
   ]
  },
  {
   "cell_type": "code",
   "execution_count": null,
   "metadata": {},
   "outputs": [],
   "source": [
    "with users as (\n",
    "select distinct user_id from\n",
    "(select caller_id as user_id from video_calls\n",
    "where ds = '2020-01-01'\n",
    "union\n",
    "select receiver_id as user_id from video_calls\n",
    "where ds = '2020-01-01')\n",
    ")\n",
    "\n",
    "select country, sum(case when user_id in users then 1 else 0 end)/count(*) from fb_dau\n",
    "where dau_flag = 1\n",
    "group by country"
   ]
  },
  {
   "cell_type": "markdown",
   "metadata": {},
   "source": [
    "# Friending"
   ]
  },
  {
   "cell_type": "code",
   "execution_count": 239,
   "metadata": {},
   "outputs": [],
   "source": [
    "friending = pd.DataFrame({'sender_id':[1,1],\n",
    "                         'receiver_id':[2,3],\n",
    "                         'sent_date':['2019-09-15', '2019-10-15'],\n",
    "                         'accepted_date':['2019-09-18', '2019-10-15'],\n",
    "                         'sender_country':['US', 'US']})\n",
    "\n",
    "fraud = pd.DataFrame({'userid':[1,2],\n",
    "                     'fraud_type':['spam', 'phishing']})"
   ]
  },
  {
   "cell_type": "markdown",
   "metadata": {},
   "source": [
    "### Q1 What is the same day acceptance rate for every day in the last week?"
   ]
  },
  {
   "cell_type": "code",
   "execution_count": 237,
   "metadata": {},
   "outputs": [
    {
     "data": {
      "text/plain": [
       "sent_date\n",
       "2019-09-15    0.0\n",
       "2019-10-15    0.5\n",
       "Name: flag, dtype: float64"
      ]
     },
     "execution_count": 237,
     "metadata": {},
     "output_type": "execute_result"
    }
   ],
   "source": [
    "df = friending.copy()\n",
    "# df = df[(datetime.datetime.now() - df.sent_date).dt.days <= 7]\n",
    "df['flag'] = np.where(df.sent_date == df.accepted_date, 1, 0)\n",
    "df.groupby('sent_date')['flag'].sum()/len(df)"
   ]
  },
  {
   "cell_type": "code",
   "execution_count": null,
   "metadata": {},
   "outputs": [],
   "source": [
    "select sent_date, sum(case when sent_date = accepted_date then 1 else 0 end)/count(*)\n",
    "from friending\n",
    "where date_diff('day', sent_date, current_date) <=7 \n",
    "group by sent_date"
   ]
  },
  {
   "cell_type": "code",
   "execution_count": null,
   "metadata": {},
   "outputs": [],
   "source": [
    "select sent_date, sum(case when sent_date = accepted_date then 1 else 0 end)/count(*) from friending\n",
    "where date_diff('day', sent_date, current_date) <=7\n",
    "group by sent_date"
   ]
  },
  {
   "cell_type": "markdown",
   "metadata": {},
   "source": [
    "### Q2 What is the percentage of fraud users send more than 10 friend requests yesterday by fraud type?"
   ]
  },
  {
   "cell_type": "code",
   "execution_count": 240,
   "metadata": {},
   "outputs": [
    {
     "data": {
      "text/plain": [
       "fraud_type\n",
       "phishing    0.0\n",
       "spam        0.5\n",
       "Name: flag, dtype: float64"
      ]
     },
     "execution_count": 240,
     "metadata": {},
     "output_type": "execute_result"
    }
   ],
   "source": [
    "df = friending.copy()\n",
    "# df = df[(datetime.datetime.now() - df.sent_date).dt.days == 1]\n",
    "df = df.groupby('sender_id')['sent_date'].count().reset_index()\n",
    "# df = df[df.sent_date>10]\n",
    "temp = fraud.merge(df, left_on = 'userid', right_on = 'sender_id', how = 'left')\n",
    "temp['flag'] = np.where(temp.sender_id.isnull(), 0, 1)\n",
    "temp.groupby('fraud_type')['flag'].sum()/len(temp)"
   ]
  },
  {
   "cell_type": "code",
   "execution_count": null,
   "metadata": {},
   "outputs": [],
   "source": [
    "select fraud_type, sum(case when sender_id is null then 0 else 1 end)/count(*)\n",
    "from\n",
    "fraud \n",
    "left join\n",
    "(select sender_id, count(*) as cnt from friending\n",
    "where date_diff('day', sent_date, current_date) = 1\n",
    "group by sender_id\n",
    "having cnt>10) as temp\n",
    "on fraud.userid = temp.sender_id\n",
    "group by fraud_type"
   ]
  },
  {
   "cell_type": "code",
   "execution_count": null,
   "metadata": {},
   "outputs": [],
   "source": [
    "with temp as\n",
    "(select sender_id as user_id\n",
    "from friending\n",
    "where date_diff('day', sent_date, current_date) = 1\n",
    "group by sender_id\n",
    "having count(*) >10)\n",
    "\n",
    "select fraud_type, sum(case when userid in temp then 1 else 0 end)/count(*) from fraud\n",
    "group by fraud_type"
   ]
  },
  {
   "cell_type": "markdown",
   "metadata": {},
   "source": [
    "# Search Quality"
   ]
  },
  {
   "cell_type": "code",
   "execution_count": 9,
   "metadata": {},
   "outputs": [],
   "source": [
    "table = pd.DataFrame({'search_id':[1,2,3,4,5,6,7,8,9,10],\n",
    "                      'query':['dog', 'dog', 'dog','dog', 'dog', 'dog','cat', 'cat', 'cat', 'cat'],\n",
    "                      'position':[1,3,2,4,5,6,3,1,2,4],\n",
    "                      'result_relevance':[5,4,2,4,1,3,2,2,1,3]  \n",
    "})"
   ]
  },
  {
   "cell_type": "markdown",
   "metadata": {},
   "source": [
    "#### Position表示search 结果出现在页面的位置，相当于rank，正整数，越小代表越靠前。result_relevance代表search 结果跟query的相关程度，范围1到5， 越大代表越相关"
   ]
  },
  {
   "cell_type": "markdown",
   "metadata": {},
   "source": [
    "### Q1 定义一个metric to measure search quality，既要考虑position 也要考虑相关程度，计算每个query的metric"
   ]
  },
  {
   "cell_type": "code",
   "execution_count": 17,
   "metadata": {},
   "outputs": [
    {
     "data": {
      "text/html": [
       "<div>\n",
       "<style scoped>\n",
       "    .dataframe tbody tr th:only-of-type {\n",
       "        vertical-align: middle;\n",
       "    }\n",
       "\n",
       "    .dataframe tbody tr th {\n",
       "        vertical-align: top;\n",
       "    }\n",
       "\n",
       "    .dataframe thead th {\n",
       "        text-align: right;\n",
       "    }\n",
       "</style>\n",
       "<table border=\"1\" class=\"dataframe\">\n",
       "  <thead>\n",
       "    <tr style=\"text-align: right;\">\n",
       "      <th></th>\n",
       "      <th>query</th>\n",
       "      <th>search_quality</th>\n",
       "      <th>perfect_quality</th>\n",
       "      <th>final_quality</th>\n",
       "    </tr>\n",
       "  </thead>\n",
       "  <tbody>\n",
       "    <tr>\n",
       "      <th>0</th>\n",
       "      <td>cat</td>\n",
       "      <td>3.916667</td>\n",
       "      <td>5.333333</td>\n",
       "      <td>0.734375</td>\n",
       "    </tr>\n",
       "    <tr>\n",
       "      <th>1</th>\n",
       "      <td>dog</td>\n",
       "      <td>9.033333</td>\n",
       "      <td>10.700000</td>\n",
       "      <td>0.844237</td>\n",
       "    </tr>\n",
       "  </tbody>\n",
       "</table>\n",
       "</div>"
      ],
      "text/plain": [
       "  query  search_quality  perfect_quality  final_quality\n",
       "0   cat        3.916667         5.333333       0.734375\n",
       "1   dog        9.033333        10.700000       0.844237"
      ]
     },
     "execution_count": 17,
     "metadata": {},
     "output_type": "execute_result"
    }
   ],
   "source": [
    "df = table.copy()\n",
    "# position_max = df.groupby('query')['position'].max().reset_index().rename(columns = {'position': 'position_max'})\n",
    "# df = df.merge(position_max, how = 'left', on = 'query')\n",
    "df['search_quality'] = df.result_relevance /(df.position)\n",
    "raw = df.groupby('query')['search_quality'].sum().reset_index()\n",
    "df['perfect_position'] = df.groupby('query')['result_relevance'].rank(method = 'dense', ascending = False)\n",
    "df['perfect_quality'] = df.result_relevance /(df.perfect_position)\n",
    "perfect = df.groupby('query')['perfect_quality'].sum().reset_index()\n",
    "final = raw.merge(perfect, on = 'query', how = 'left')\n",
    "final['final_quality'] = final.search_quality/final.perfect_quality\n",
    "final"
   ]
  },
  {
   "cell_type": "code",
   "execution_count": 249,
   "metadata": {
    "collapsed": true
   },
   "outputs": [
    {
     "ename": "SyntaxError",
     "evalue": "invalid syntax (<ipython-input-249-cfaab06962e2>, line 1)",
     "output_type": "error",
     "traceback": [
      "\u001b[0;36m  File \u001b[0;32m\"<ipython-input-249-cfaab06962e2>\"\u001b[0;36m, line \u001b[0;32m1\u001b[0m\n\u001b[0;31m    with position_max as\u001b[0m\n\u001b[0m                        ^\u001b[0m\n\u001b[0;31mSyntaxError\u001b[0m\u001b[0;31m:\u001b[0m invalid syntax\n"
     ]
    }
   ],
   "source": [
    "with position_max as\n",
    "(\n",
    "select query, max(position) as position_max from table\n",
    "group by query)\n",
    "\n",
    "select table.*, result_relevance/(position/position_max) as search_quality\n",
    "from table\n",
    "left join position_max\n",
    "on query\n",
    "order by query, search quality Desc\n"
   ]
  },
  {
   "cell_type": "code",
   "execution_count": null,
   "metadata": {},
   "outputs": [],
   "source": [
    "--litez: compute NDCG as the metric\n",
    "https://en.wikipedia.org/wiki/Discounted_cumulative_gain"
   ]
  },
  {
   "cell_type": "code",
   "execution_count": null,
   "metadata": {},
   "outputs": [],
   "source": [
    "with raw as (select query, sum(result_relevance/position) as search_quality from table\n",
    "group by query\n",
    "order by query, search_quality desc),\n",
    "\n",
    "perfect as\n",
    "select query, sum(result_relevance/perfect_position) as perfect_quality\n",
    "from\n",
    "(select *,\n",
    " dense_rank() over(partition by query order by result_relevance desc) as perfect_position\n",
    " from table\n",
    ") temp\n",
    "group by query\n",
    "order by query, perfect_quality desc\n",
    "\n",
    "select raw.query, search_quality/perfect_quality as final from raw\n",
    "left join perfect\n",
    "on raw.query = perfect.query"
   ]
  },
  {
   "cell_type": "markdown",
   "metadata": {},
   "source": [
    "### Q2 假如某个query的所有relevance 都低于3，就定义为一个quality不好的search，找到这些query在所有query中占的比例。"
   ]
  },
  {
   "cell_type": "code",
   "execution_count": 253,
   "metadata": {},
   "outputs": [
    {
     "data": {
      "text/plain": [
       "0.5"
      ]
     },
     "execution_count": 253,
     "metadata": {},
     "output_type": "execute_result"
    }
   ],
   "source": [
    "df = table.copy()\n",
    "df = df.groupby('query')['result_relevance'].max().reset_index()\n",
    "df['bad_search'] = np.where(df.result_relevance<=3,1,0)\n",
    "df.bad_search.sum()/(len(df)+0.0)"
   ]
  },
  {
   "cell_type": "code",
   "execution_count": null,
   "metadata": {},
   "outputs": [],
   "source": [
    "select sum(bad_search)/count(*)\n",
    "from\n",
    "(select query, case when max(result_relevance) < 3 then 1 else 0 end as bad_search from table\n",
    "group by query) temp\n",
    "\n"
   ]
  },
  {
   "cell_type": "markdown",
   "metadata": {},
   "source": [
    "# Searching"
   ]
  },
  {
   "cell_type": "code",
   "execution_count": 254,
   "metadata": {},
   "outputs": [],
   "source": [
    "search = pd.DataFrame({'Date':['2019-09-15', '2019-10-15','2019-09-15', '2019-10-15','2019-09-15', '2019-10-15'],\n",
    "                      'Search_id':[1,2,3,4,5,6],\n",
    "                      'User_id':[1,1,3,4,2,4],\n",
    "                      'Age_group':[2,2,5,4,4,4],\n",
    "                      'Search_query':['dog', 'dog', 'dog', 'cat', 'cat', 'cat']})\n",
    "\n",
    "search_results = pd.DataFrame({'Date':['2019-09-15', '2019-10-15','2019-09-15', '2019-10-15','2019-09-15', '2019-10-15'],\n",
    "                               'Search_id':[1,2,3,4,5,6],\n",
    "                               'Result_id':[1,2,3,1,2,1],\n",
    "                               'Result_type':['page', 'event', 'page', 'event', 'person', 'post'],\n",
    "                               'Clicked':[1,0,1,1,1,0]})\n",
    "\n"
   ]
  },
  {
   "cell_type": "markdown",
   "metadata": {},
   "source": [
    "### Q1: by each age group, how many unique users search for “dog” in last 7 days?\n"
   ]
  },
  {
   "cell_type": "code",
   "execution_count": 255,
   "metadata": {},
   "outputs": [
    {
     "data": {
      "text/plain": [
       "Age_group\n",
       "2    1\n",
       "5    1\n",
       "Name: User_id, dtype: int64"
      ]
     },
     "execution_count": 255,
     "metadata": {},
     "output_type": "execute_result"
    }
   ],
   "source": [
    "df = search.copy()\n",
    "df = df[df.Search_query == 'dog']\n",
    "# df = df[(datetime.datetime.now() - df.Date).dt.days <= 7]\n",
    "df.groupby('Age_group')['User_id'].nunique()"
   ]
  },
  {
   "cell_type": "code",
   "execution_count": null,
   "metadata": {},
   "outputs": [],
   "source": [
    "select Age_group, count(distinct User_id) from search\n",
    "where date_diff('day', Date, current_date)<=7 and Search_query = 'dog'\n",
    "group by Age_group"
   ]
  },
  {
   "cell_type": "code",
   "execution_count": null,
   "metadata": {},
   "outputs": [],
   "source": [
    "select Age_group, count(distinct User_id) from search\n",
    "where Search_query = 'dog' and date_diff('day', Date, current_date) <=7\n",
    "group by Age_group"
   ]
  },
  {
   "cell_type": "markdown",
   "metadata": {},
   "source": [
    "### Q2: What are the top 10 search terms that are most likely to return at least one result about an event?\n"
   ]
  },
  {
   "cell_type": "code",
   "execution_count": 259,
   "metadata": {
    "scrolled": true
   },
   "outputs": [
    {
     "data": {
      "text/html": [
       "<div>\n",
       "<style scoped>\n",
       "    .dataframe tbody tr th:only-of-type {\n",
       "        vertical-align: middle;\n",
       "    }\n",
       "\n",
       "    .dataframe tbody tr th {\n",
       "        vertical-align: top;\n",
       "    }\n",
       "\n",
       "    .dataframe thead th {\n",
       "        text-align: right;\n",
       "    }\n",
       "</style>\n",
       "<table border=\"1\" class=\"dataframe\">\n",
       "  <thead>\n",
       "    <tr style=\"text-align: right;\">\n",
       "      <th></th>\n",
       "      <th>Search_id</th>\n",
       "      <th>event_cnt</th>\n",
       "      <th>Age_group</th>\n",
       "      <th>Date</th>\n",
       "      <th>Search_query</th>\n",
       "      <th>User_id</th>\n",
       "    </tr>\n",
       "  </thead>\n",
       "  <tbody>\n",
       "    <tr>\n",
       "      <th>0</th>\n",
       "      <td>2</td>\n",
       "      <td>1</td>\n",
       "      <td>2</td>\n",
       "      <td>2019-10-15</td>\n",
       "      <td>dog</td>\n",
       "      <td>1</td>\n",
       "    </tr>\n",
       "  </tbody>\n",
       "</table>\n",
       "</div>"
      ],
      "text/plain": [
       "   Search_id  event_cnt  Age_group        Date Search_query  User_id\n",
       "0          2          1          2  2019-10-15          dog        1"
      ]
     },
     "execution_count": 259,
     "metadata": {},
     "output_type": "execute_result"
    }
   ],
   "source": [
    "df = search_results.copy()\n",
    "df = df[df.Result_type == 'event']\n",
    "df = df.groupby('Search_id')['Result_id'].nunique().reset_index().rename(columns = {'Result_id':'event_cnt'})\n",
    "df.merge(search, on = 'Search_id', how = 'left').sort_values(by = 'event_cnt', ascending = False)\n"
   ]
  },
  {
   "cell_type": "code",
   "execution_count": null,
   "metadata": {},
   "outputs": [],
   "source": [
    "select search_query, cnt\n",
    "from\n",
    "(select Search_id, count(*) as cnt from search_results\n",
    "where Result_type = 'event'\n",
    "group by Search_id) temp\n",
    "left join search\n",
    "on temp.Search_id = search.Search_id\n",
    "order by cnt desc"
   ]
  },
  {
   "cell_type": "code",
   "execution_count": null,
   "metadata": {},
   "outputs": [],
   "source": [
    "select Search_query\n",
    "from \n",
    "(select Search_id from search_results\n",
    "where Result_type = 'event'\n",
    "group by Search_id\n",
    "having count(Result_id)>1\n",
    "order by count(Result_id) desc\n",
    "limit 10) temp\n",
    "left join \n",
    "search\n",
    "on temp.Search_id = search.Search_id"
   ]
  },
  {
   "cell_type": "markdown",
   "metadata": {},
   "source": [
    "# Friend"
   ]
  },
  {
   "cell_type": "code",
   "execution_count": null,
   "metadata": {},
   "outputs": [],
   "source": [
    "friending = pd.DataFrame({'sender_id':[],\n",
    "                          'receive_id':[],\n",
    "                          'sent_date':[],\n",
    "                          'accepted_date':[]\n",
    "                         })\n",
    "age_group = pd.DataFrame({'userid':[],\n",
    "                         'age_group':[]})\n"
   ]
  },
  {
   "cell_type": "markdown",
   "metadata": {},
   "source": [
    "### Q1 求过去四周，each day of week，friend request 的总数。一开始理解过了，算成28天每天，结果他说不对，我又说了一下理解， 发现是要按照MON/Tuest/Wed这样算"
   ]
  },
  {
   "cell_type": "code",
   "execution_count": null,
   "metadata": {},
   "outputs": [],
   "source": [
    "select day_of_week(sent_date) as dayofweek, count(*)\n",
    "from friending\n",
    "where date_diff('day', sent_date, current_date) <=28\n",
    "group by 1"
   ]
  },
  {
   "cell_type": "code",
   "execution_count": null,
   "metadata": {},
   "outputs": [],
   "source": [
    "select day_of_week(sent_date) as dow, count(*) from friending\n",
    "where date_diff('day', sent_date, current_date) <= 28\n",
    "group by dow"
   ]
  },
  {
   "cell_type": "markdown",
   "metadata": {},
   "source": [
    "### Q2 求过去一周，每个age group， average sent request。"
   ]
  },
  {
   "cell_type": "code",
   "execution_count": null,
   "metadata": {},
   "outputs": [],
   "source": [
    "select age_group, count(*) from friending\n",
    "left join age_group \n",
    "on friending.sender_id = age_group.userid\n",
    "group by age_group"
   ]
  },
  {
   "cell_type": "code",
   "execution_count": null,
   "metadata": {},
   "outputs": [],
   "source": [
    "select age_group, count(*) from friending\n",
    "left join age_group\n",
    "on friending.sender_id = age_group.userid\n",
    "where date_diff('day', sent_date, current_date) <= 7\n",
    "group by age_group\n"
   ]
  },
  {
   "cell_type": "markdown",
   "metadata": {},
   "source": [
    "### Q3 acceptance rate in last week"
   ]
  },
  {
   "cell_type": "code",
   "execution_count": null,
   "metadata": {},
   "outputs": [],
   "source": [
    "select count(accpeted_date)/count(sent_date) from friending\n",
    "where date_diff('day', sent_date, current_date)<=7"
   ]
  },
  {
   "cell_type": "code",
   "execution_count": null,
   "metadata": {},
   "outputs": [],
   "source": [
    "select sum(case when accepted_date is null then 0 else 1 end)/sum(case when sent_date is null then 0 else 1 end)\n",
    "from friending\n",
    "where date_diff('day', sent_date, current_date)<=7"
   ]
  }
 ],
 "metadata": {
  "kernelspec": {
   "display_name": "Python 2",
   "language": "python",
   "name": "python2"
  },
  "language_info": {
   "codemirror_mode": {
    "name": "ipython",
    "version": 2
   },
   "file_extension": ".py",
   "mimetype": "text/x-python",
   "name": "python",
   "nbconvert_exporter": "python",
   "pygments_lexer": "ipython2",
   "version": "2.7.14"
  }
 },
 "nbformat": 4,
 "nbformat_minor": 2
}
