{
 "cells": [
  {
   "cell_type": "code",
   "execution_count": 11,
   "metadata": {},
   "outputs": [],
   "source": [
    "import pandas as pd\n",
    "import numpy as np\n",
    "from sklearn.metrics.pairwise import cosine_similarity\n",
    "from scipy import sparse"
   ]
  },
  {
   "cell_type": "code",
   "execution_count": null,
   "metadata": {},
   "outputs": [],
   "source": []
  },
  {
   "cell_type": "code",
   "execution_count": null,
   "metadata": {},
   "outputs": [],
   "source": [
    "a = [(16,2),(10,5),(2,2), (7,1)]\n",
    "每个tuple里第一个数是这本书的价格，第二个数是这本书的重量。\n",
    "假设你有18的credit，如何选出两本书的价格能用尽可能多的credit的同时重量还是相对最少的。属于一道two sum的变种吧"
   ]
  },
  {
   "cell_type": "code",
   "execution_count": 44,
   "metadata": {},
   "outputs": [],
   "source": [
    "a = [(16,2),(10,5),(2,2), (7,1), (2,1), (16,1)]\n"
   ]
  },
  {
   "cell_type": "code",
   "execution_count": 45,
   "metadata": {},
   "outputs": [
    {
     "name": "stdout",
     "output_type": "stream",
     "text": [
      "(4, 5)\n"
     ]
    }
   ],
   "source": [
    "total_weight = 10000\n",
    "total_credit = 0\n",
    "book = ()\n",
    "\n",
    "for i in range(0, len(a)):\n",
    "    for j in range(i+1, len(a)):\n",
    "        if (a[i][0] <= 18) & (a[j][0] <= 18):\n",
    "            temp_credit = a[i][0] + a[j][0]\n",
    "            temp_weight = a[i][1] + a[j][1]\n",
    "            if (temp_credit <= 18) & (temp_credit > total_credit):\n",
    "                total_credit = temp_credit\n",
    "                total_weight = total_weight\n",
    "                book = (i,j)\n",
    "            elif (temp_credit <= 18) & (temp_credit == total_credit) & (temp_weight < total_weight):\n",
    "                total_credit = temp_credit\n",
    "                total_weight = total_weight\n",
    "                book = (i,j)\n",
    "print (book        )"
   ]
  },
  {
   "cell_type": "code",
   "execution_count": 1,
   "metadata": {},
   "outputs": [],
   "source": []
  },
  {
   "cell_type": "code",
   "execution_count": null,
   "metadata": {},
   "outputs": [],
   "source": []
  },
  {
   "cell_type": "code",
   "execution_count": 14,
   "metadata": {},
   "outputs": [
    {
     "name": "stdout",
     "output_type": "stream",
     "text": [
      "  (0, 1)\t1\n",
      "  (0, 4)\t1\n",
      "  (1, 2)\t1\n",
      "  (1, 3)\t1\n",
      "  (1, 4)\t1\n",
      "  (2, 0)\t1\n",
      "  (2, 1)\t1\n",
      "  (2, 3)\t1\n"
     ]
    }
   ],
   "source": [
    "A =  np.array([[0, 1, 0, 0, 1], [0, 0, 1, 1, 1],[1, 1, 0, 1, 0]])\n",
    "A_sparse = sparse.csr_matrix(A)\n",
    "print(A_sparse)"
   ]
  },
  {
   "cell_type": "code",
   "execution_count": 16,
   "metadata": {},
   "outputs": [
    {
     "name": "stdout",
     "output_type": "stream",
     "text": [
      "pairwise dense output:\n",
      " [[1.         0.40824829 0.40824829]\n",
      " [0.40824829 1.         0.33333333]\n",
      " [0.40824829 0.33333333 1.        ]]\n",
      "\n",
      "pairwise sparse output:\n",
      "   (0, 1)\t0.408248290463863\n",
      "  (0, 2)\t0.408248290463863\n",
      "  (0, 0)\t0.9999999999999998\n",
      "  (1, 0)\t0.408248290463863\n",
      "  (1, 2)\t0.3333333333333334\n",
      "  (1, 1)\t1.0000000000000002\n",
      "  (2, 1)\t0.3333333333333334\n",
      "  (2, 0)\t0.408248290463863\n",
      "  (2, 2)\t1.0000000000000002\n",
      "\n"
     ]
    }
   ],
   "source": [
    "similarities = cosine_similarity(A_sparse)\n",
    "print('pairwise dense output:\\n {}\\n'.format(similarities))\n",
    "\n",
    "#also can output sparse matrices\n",
    "similarities_sparse = cosine_similarity(A_sparse,dense_output=False)\n",
    "print('pairwise sparse output:\\n {}\\n'.format(similarities_sparse))"
   ]
  },
  {
   "cell_type": "code",
   "execution_count": 17,
   "metadata": {},
   "outputs": [
    {
     "name": "stdout",
     "output_type": "stream",
     "text": [
      "pairwise dense output:\n",
      " [[1.         0.40824829 0.40824829]\n",
      " [0.40824829 1.         0.33333333]\n",
      " [0.40824829 0.33333333 1.        ]]\n",
      "\n",
      "pairwise sparse output:\n",
      " [[1.         0.40824829 0.40824829]\n",
      " [0.40824829 1.         0.33333333]\n",
      " [0.40824829 0.33333333 1.        ]]\n",
      "\n"
     ]
    }
   ],
   "source": [
    "similarities = cosine_similarity(A)\n",
    "print('pairwise dense output:\\n {}\\n'.format(similarities))\n",
    "\n",
    "#also can output sparse matrices\n",
    "similarities_sparse = cosine_similarity(A,dense_output=False)\n",
    "print('pairwise sparse output:\\n {}\\n'.format(similarities_sparse))"
   ]
  },
  {
   "cell_type": "code",
   "execution_count": 152,
   "metadata": {},
   "outputs": [
    {
     "data": {
      "text/plain": [
       "0.408248290463863"
      ]
     },
     "execution_count": 152,
     "metadata": {},
     "output_type": "execute_result"
    }
   ],
   "source": [
    "similarities[0,2]"
   ]
  },
  {
   "cell_type": "code",
   "execution_count": null,
   "metadata": {},
   "outputs": [],
   "source": []
  },
  {
   "cell_type": "code",
   "execution_count": null,
   "metadata": {},
   "outputs": [],
   "source": [
    "\"\"\"\n",
    "column A: string, numeric, numeric\n",
    "column B: categorical, numeric, string\n",
    "column C: string, string, string\n",
    "column D: numeric, numeric, numeric\n",
    "\"\"\"\n",
    "\n",
    "写一个func输出只含有某一种type的column，\n",
    "比如\n",
    "get_columm(input_str, 'numeric')\n",
    "需要输出 column D\n",
    "get_columm(input_str, 'string')\n",
    "需要输出 column C\n",
    "\n",
    "follow up 是如果是多重types的，选出包含任意其中任意一种type的columns；\n",
    "记得好像还有选出满足其中所有types的columns\n",
    "例如\n",
    "get_column(input_str, ['string, numeric'])\n",
    "需要输出 column A。"
   ]
  },
  {
   "cell_type": "code",
   "execution_count": 48,
   "metadata": {},
   "outputs": [],
   "source": [
    "A = '''column A: string, numeric, numeric\n",
    "column B: categorical, numeric, string\n",
    "column C: string, string, string\n",
    "column D: numeric, numeric, numeric'''"
   ]
  },
  {
   "cell_type": "code",
   "execution_count": 59,
   "metadata": {},
   "outputs": [],
   "source": [
    "def get_column(string, input_type):\n",
    "    for i in string.splitlines():\n",
    "        column_type = set(i[10:].split(', '))\n",
    "        if ({input_type} == column_type) & (len(column_type) == 1):\n",
    "            print (i[0:8])"
   ]
  },
  {
   "cell_type": "code",
   "execution_count": 61,
   "metadata": {},
   "outputs": [
    {
     "name": "stdout",
     "output_type": "stream",
     "text": [
      "column D\n"
     ]
    }
   ],
   "source": [
    "get_column(A, 'numeric')"
   ]
  },
  {
   "cell_type": "code",
   "execution_count": 64,
   "metadata": {},
   "outputs": [],
   "source": [
    "def get_column(string, input_type):\n",
    "    for i in string.splitlines():\n",
    "        column_type = set(i[10:].split(', '))\n",
    "        if (input_type[0] in column_type) | (input_type[1] in column_type):\n",
    "            print (i[0:8])"
   ]
  },
  {
   "cell_type": "code",
   "execution_count": 66,
   "metadata": {},
   "outputs": [
    {
     "name": "stdout",
     "output_type": "stream",
     "text": [
      "column A\n",
      "column B\n",
      "column C\n",
      "column D\n"
     ]
    }
   ],
   "source": [
    "get_column(A, ['string', 'numeric'])"
   ]
  },
  {
   "cell_type": "code",
   "execution_count": 67,
   "metadata": {},
   "outputs": [],
   "source": [
    "def get_column(string, input_type):\n",
    "    for i in string.splitlines():\n",
    "        column_type = set(i[10:].split(', '))\n",
    "        if (input_type[0] in column_type) & (input_type[1] in column_type):\n",
    "            print (i[0:8])"
   ]
  },
  {
   "cell_type": "code",
   "execution_count": 68,
   "metadata": {},
   "outputs": [
    {
     "name": "stdout",
     "output_type": "stream",
     "text": [
      "column A\n",
      "column B\n"
     ]
    }
   ],
   "source": [
    "get_column(A, ['string', 'numeric'])"
   ]
  },
  {
   "cell_type": "code",
   "execution_count": null,
   "metadata": {},
   "outputs": [],
   "source": []
  },
  {
   "cell_type": "code",
   "execution_count": null,
   "metadata": {},
   "outputs": [],
   "source": []
  },
  {
   "cell_type": "code",
   "execution_count": null,
   "metadata": {},
   "outputs": [],
   "source": []
  },
  {
   "cell_type": "code",
   "execution_count": null,
   "metadata": {},
   "outputs": [],
   "source": [
    "就一个简单的coding 问题，一个list，e.g.[0,1,1,0...] 用0,1来定义water和ship, 让找出船头和船尾的index，\n",
    "开始一问只有一艘船，后来follow up有多艘的情况，要考虑各种 edge cases，code要能跑，然后有问题要debug"
   ]
  },
  {
   "cell_type": "code",
   "execution_count": 87,
   "metadata": {},
   "outputs": [
    {
     "name": "stdout",
     "output_type": "stream",
     "text": [
      "1 3\n"
     ]
    }
   ],
   "source": [
    "a = [0,1,1,1,0]\n",
    "\n",
    "def ship(lst):\n",
    "    first = -1\n",
    "    end = -1\n",
    "    for i, j in enumerate(lst):\n",
    "        if j == 1:\n",
    "            if first == -1:\n",
    "                first = i\n",
    "        if j == 0:\n",
    "            if first != -1:\n",
    "                end = i-1\n",
    "    print(first, end)\n",
    "ship(a)        \n",
    "            "
   ]
  },
  {
   "cell_type": "code",
   "execution_count": 121,
   "metadata": {},
   "outputs": [
    {
     "name": "stdout",
     "output_type": "stream",
     "text": [
      "{1: {'first': 1, 'end': 4}, 2: {'first': 6, 'end': 7}, 3: {'first': 9, 'end': 12}}\n"
     ]
    }
   ],
   "source": [
    "a = [0,1,1,1,0,0,1,1,0,1,1,1,1,0]\n",
    "def ship(lst):\n",
    "    ship = dict()\n",
    "    cnt = 0\n",
    "    for index, j in enumerate(lst):\n",
    "        if j == 1:\n",
    "            if (cnt not in ship):\n",
    "                cnt += 1\n",
    "                ship[cnt] = {'first': index}\n",
    "            elif ('end' in ship[cnt]):\n",
    "                cnt += 1\n",
    "                ship[cnt] = {'first': index}\n",
    "        if j == 0:\n",
    "            if cnt in ship:\n",
    "                ship[cnt].update({'end': index-1})\n",
    "    print(ship)\n",
    "ship(a)        \n",
    "            "
   ]
  },
  {
   "cell_type": "code",
   "execution_count": null,
   "metadata": {},
   "outputs": [],
   "source": []
  },
  {
   "cell_type": "code",
   "execution_count": null,
   "metadata": {},
   "outputs": [],
   "source": []
  },
  {
   "cell_type": "code",
   "execution_count": null,
   "metadata": {},
   "outputs": [],
   "source": [
    "给你一个strings 都是字母 确保这个string的数字是最大. \n",
    "让你把字母设置一个数字 每个字母可以代表一个数字 但是需要你能把这个string 返还最大的和\n",
    "反正本意就是希望你首先把字母出现的频率算出来 再把频率最高的设置最大的数字 这样返还的和就是最大的\n",
    "需要你return这个和"
   ]
  },
  {
   "cell_type": "code",
   "execution_count": 46,
   "metadata": {},
   "outputs": [
    {
     "data": {
      "text/plain": [
       "['s', 'a', 'f', 'c', 'e', 'w']"
      ]
     },
     "execution_count": 46,
     "metadata": {},
     "output_type": "execute_result"
    }
   ],
   "source": [
    "a = 'ascscefwaassfe'\n",
    "letters = set(a)\n",
    "value = dict()\n",
    "for i in letters:\n",
    "    value[i] = a.count(i)\n",
    "rank = list(range(1,len(value.keys())+1))\n",
    "rank = [10-i for i in rank]\n",
    "new_value = dict(zip(sorted(value, key=value.get, reverse=True), rank))\n",
    "total = 0\n",
    "for i in value.keys():\n",
    "    total = total+value[i]*new_value[i]\n",
    "print(total)"
   ]
  },
  {
   "cell_type": "code",
   "execution_count": 51,
   "metadata": {},
   "outputs": [],
   "source": []
  },
  {
   "cell_type": "code",
   "execution_count": null,
   "metadata": {},
   "outputs": [],
   "source": []
  },
  {
   "cell_type": "code",
   "execution_count": null,
   "metadata": {},
   "outputs": [],
   "source": []
  },
  {
   "cell_type": "code",
   "execution_count": null,
   "metadata": {},
   "outputs": [],
   "source": []
  },
  {
   "cell_type": "code",
   "execution_count": null,
   "metadata": {},
   "outputs": [],
   "source": [
    "\n",
    " 和Markov Chain 相关的一题，一个input是string like \"The sky is blue, the tree is green, the lake is blue.\"\n",
    "    另一个input是这个string里的某一个word，比如“is”. \n",
    "    return 一个word，要求：\n",
    "1. 这个word是在那个input word 之后\n",
    "2. with prob 出现的次数出现\n",
    "\n",
    "例如， is后面可以是[blue，green，blue]。所以要以2/3的概率return blue，1/3的概率return green。\n",
    "\n",
    "我有思路，但是写了80%但是时间不够没有写，就没有给过。 附上自己后来重新写的答案（就是大概写了一下，如果有哪处不对请指正），希望对大家有帮助。\n",
    "\n",
    "\n",
    "sts = \"The sky is blue, the tree is green. The lake is blue\"\n",
    "word = \"is\"\n",
    "\n",
    "from random import random\n",
    "\n",
    "def func(sts, word):\n",
    "    sts = sts.strip().lower()\n",
    "    sts = sts.replace(',', '')\n",
    "    sts = sts.replace('.', '')\n",
    "    sts = sts.split()\n",
    "\n",
    "    n = len(sts)\n",
    "    dict0 = {item: {} for item in sts}\n",
    "    for i in range(n-1):\n",
    "        if sts[i+1] in dict0[sts[i]].keys():\n",
    "            dict0[sts[i]][sts[i+1]] +=1\n",
    "        else:\n",
    "            dict0[sts[i]][sts[i+1]] = 1\n",
    "\n",
    "    rand = random()\n",
    "    ref = helper(dict0[word])\n",
    "\n",
    "    for item in ref:\n",
    "        if item[1][0]<= rand < item[1][1]:\n",
    "            return item[0]\n",
    "\n",
    "    return None\n",
    "\n",
    "\n",
    "def helper(dict0):\n",
    "    sum0 = sum(dict0.values())\n",
    "\n",
    "    temp = 0\n",
    "    ref =[]\n",
    "    for key,val in dict0.items():\n",
    "        ref.append((key,[temp, temp+val/sum0]))\n",
    "        temp += val/sum0\n",
    "\n",
    "    return ref\n",
    "\n",
    "\n",
    "print(func(sts, 'is'))\n",
    "print(func(sts, 'is'))\n",
    "print(func(sts, 'is'))\n",
    "print(func(sts, 'is'))\n",
    "print(func(sts, 'is'))\n",
    "print(func(sts, 'is'))\n",
    "print(func(sts, 'is'))\n",
    "print(func(sts, 'is'))\n",
    "print(func(sts, 'is'))"
   ]
  },
  {
   "cell_type": "code",
   "execution_count": 109,
   "metadata": {},
   "outputs": [
    {
     "data": {
      "text/plain": [
       "['The',\n",
       " 'sky',\n",
       " 'is',\n",
       " 'blue',\n",
       " 'the',\n",
       " 'tree',\n",
       " 'is',\n",
       " 'green.',\n",
       " 'The',\n",
       " 'lake',\n",
       " 'is',\n",
       " 'blue']"
      ]
     },
     "execution_count": 109,
     "metadata": {},
     "output_type": "execute_result"
    }
   ],
   "source": [
    "sts = \"The sky is blue, the tree is green. The lake is blue\"\n",
    "word = \"is\"\n",
    "import re\n",
    "re.split(\"[, \\-!?:]+\", sts)"
   ]
  },
  {
   "cell_type": "code",
   "execution_count": 119,
   "metadata": {},
   "outputs": [
    {
     "name": "stdout",
     "output_type": "stream",
     "text": [
      "['blue', 'green', 'blue']\n",
      "{'blue': [0, 0.6666666666666666], 'green': [0.6666666666666666, 1.0]}\n",
      "0.4598407700831134\n",
      "blue\n"
     ]
    }
   ],
   "source": [
    "sts = sts.replace(\",\", \"\")\n",
    "sts = sts.replace(\".\", \"\")\n",
    "lst = sts.split()\n",
    "final_lst = []\n",
    "for i,j in enumerate(lst):\n",
    "    if j=='is':\n",
    "        final_lst.append(lst[i+1])\n",
    "print(final_lst)\n",
    "temp_dict = dict()\n",
    "final_dict = dict()\n",
    "temp = 0\n",
    "for i in final_lst:\n",
    "    temp_dict[i] = final_lst.count(i)/len(final_lst)\n",
    "for i in temp_dict.keys():\n",
    "    final_dict[i] = [temp, temp+temp_dict[i]]\n",
    "    temp = temp+temp_dict[i]\n",
    "\n",
    "print(final_dict)\n",
    "\n",
    "\n",
    "from random import random\n",
    "num = random()\n",
    "print(num)\n",
    "def return_word(num):\n",
    "    for i in final_dict.keys():\n",
    "        if (num >= final_dict[i][0]) & (num <= final_dict[i][1]):\n",
    "            print(i)\n",
    "return_word(num)"
   ]
  },
  {
   "cell_type": "code",
   "execution_count": 85,
   "metadata": {},
   "outputs": [
    {
     "name": "stdout",
     "output_type": "stream",
     "text": [
      "0.10641594950148958\n",
      "{'the': {'sky': 1, 'tree': 1, 'lake': 1}, 'sky': {'is': 1}, 'is': {'blue': 2, 'green': 1}, 'blue': {'the': 1}, 'tree': {'is': 1}, 'green': {'the': 1}, 'lake': {'is': 1}}\n",
      "3\n",
      "[]\n",
      "[('blue', [0, 0.6666666666666666])]\n",
      "[('blue', [0, 0.6666666666666666]), ('green', [0.6666666666666666, 1.0])]\n"
     ]
    },
    {
     "data": {
      "text/plain": [
       "'blue'"
      ]
     },
     "execution_count": 85,
     "metadata": {},
     "output_type": "execute_result"
    }
   ],
   "source": [
    "from random import random\n",
    "\n",
    "def func(sts, word):\n",
    "    sts = sts.strip().lower()\n",
    "    sts = sts.replace(',', '')\n",
    "    sts = sts.replace('.', '')\n",
    "    sts = sts.split()\n",
    "\n",
    "    n = len(sts)\n",
    "    dict0 = {item: {} for item in sts}\n",
    "    for i in range(n-1):\n",
    "        if sts[i+1] in dict0[sts[i]].keys():\n",
    "            dict0[sts[i]][sts[i+1]] +=1\n",
    "        else:\n",
    "            dict0[sts[i]][sts[i+1]] = 1\n",
    "\n",
    "    rand = random()\n",
    "    print(rand)\n",
    "    print(dict0)\n",
    "    ref = helper(dict0[word])\n",
    "    print(ref)\n",
    "\n",
    "    for item in ref:\n",
    "        if item[1][0]<= rand < item[1][1]:\n",
    "            return item[0]\n",
    "\n",
    "    return None\n",
    "\n",
    "\n",
    "def helper(dict0):\n",
    "    sum0 = sum(dict0.values())\n",
    "    print(sum0)\n",
    "    temp = 0\n",
    "    ref =[]\n",
    "    for key,val in dict0.items():\n",
    "        print(ref)\n",
    "        ref.append((key,[temp, temp+val/sum0]))\n",
    "        temp += val/sum0\n",
    "\n",
    "    return ref\n",
    "\n",
    "\n",
    "func(sts, word)"
   ]
  }
 ],
 "metadata": {
  "kernelspec": {
   "display_name": "Python 3",
   "language": "python",
   "name": "python3"
  },
  "language_info": {
   "codemirror_mode": {
    "name": "ipython",
    "version": 3
   },
   "file_extension": ".py",
   "mimetype": "text/x-python",
   "name": "python",
   "nbconvert_exporter": "python",
   "pygments_lexer": "ipython3",
   "version": "3.7.7"
  }
 },
 "nbformat": 4,
 "nbformat_minor": 4
}
